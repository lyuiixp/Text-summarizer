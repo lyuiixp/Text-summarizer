{
 "cells": [
  {
   "cell_type": "markdown",
   "metadata": {},
   "source": [
    "# 텍스트 요약기\n",
    "### 1) 추출적 요약 : 원문에서 중요한 핵심문장, 단어를 뽑아 이들로 구성된 요약\n",
    "- 단점 : 이미 존재하는 문장,단어로만 구성하여 모델의 언어표현능력 제한\n",
    "\n",
    "###  2) 추상적 요약 : 원문에 없던 문장이라도 핵심 문맥을 반영한 새로운 문장 생성하여 요약\n",
    "- 단점 : seq2seq같은 지도학습 모델사용(원문과 요약문 레이블 데이터가 둘다 필요)\n",
    "\n",
    "### 평가지표\n",
    "- ROGUE Metric\n",
    "- 요약능력을 나타내는 평가지표"
   ]
  },
  {
   "cell_type": "code",
   "execution_count": 75,
   "metadata": {},
   "outputs": [],
   "source": [
    "import json\n",
    "import numpy as np\n",
    "import pandas as pd\n",
    "import re\n",
    "import matplotlib.pyplot as plt\n",
    "import torch\n",
    "import joblib\n",
    "import pickle"
   ]
  },
  {
   "cell_type": "markdown",
   "metadata": {},
   "source": [
    "### 데이터 불러오기"
   ]
  },
  {
   "cell_type": "code",
   "execution_count": 2,
   "metadata": {},
   "outputs": [],
   "source": [
    "# json파일 읽기\n",
    "\n",
    "text_dir = 'C:\\\\Users\\\\Yong\\\\Desktop\\\\text\\\\'\n",
    "with open(text_dir + 'Training\\\\신문기사_train_original\\\\train_original.json', 'r', encoding = 'utf-8') as f:\n",
    "    json_data_train =json.load(f)\n",
    "    \n",
    "with open(text_dir + 'Validation\\\\신문기사_valid_original\\\\valid_original.json', 'r', encoding = 'utf-8') as f:\n",
    "    json_data_val =json.load(f)\n",
    "#json_string = json.dumps(json_data['documents'][0]['text'][0][2], indent=3)\n",
    "#print(json_data['documents'][0]['text'][0][2])"
   ]
  },
  {
   "cell_type": "code",
   "execution_count": 3,
   "metadata": {},
   "outputs": [
    {
     "name": "stdout",
     "output_type": "stream",
     "text": [
      "(271093, 30122)\n"
     ]
    }
   ],
   "source": [
    "# train, val set\n",
    "print((len(json_data_train['documents']), len(json_data_val['documents'])))"
   ]
  },
  {
   "cell_type": "code",
   "execution_count": 4,
   "metadata": {},
   "outputs": [],
   "source": [
    "# text, abstract 리스트에 추가(train)\n",
    "train_text_list=[]\n",
    "train_abstract_list=[]\n",
    "\n",
    "train_data = json_data_train['documents']\n",
    "for y in range(len(train_data)):\n",
    "    sentence =''\n",
    "    for x in range(len(train_data[y]['text'])):\n",
    "        for z in range(len(train_data[y]['text'][x])):\n",
    "            sentence += (train_data[y]['text'][x][z]['sentence'] + ' ')\n",
    "    train_text_list.append(sentence)\n",
    "    train_abstract_list.append(train_data[y]['abstractive'][0])"
   ]
  },
  {
   "cell_type": "code",
   "execution_count": 5,
   "metadata": {},
   "outputs": [
    {
     "data": {
      "text/plain": [
       "(271093, 271093)"
      ]
     },
     "execution_count": 5,
     "metadata": {},
     "output_type": "execute_result"
    }
   ],
   "source": [
    "len(train_text_list), len(train_abstract_list)"
   ]
  },
  {
   "cell_type": "code",
   "execution_count": 6,
   "metadata": {},
   "outputs": [],
   "source": [
    "# text, abstract 리스트에 추가(validation)\n",
    "val_text_list=[]\n",
    "val_abstract_list=[]\n",
    "\n",
    "val_data = json_data_val['documents']\n",
    "for y in range(len(val_data)):\n",
    "    sentence =''\n",
    "    for x in range(len(val_data[y]['text'])):\n",
    "        for z in range(len(val_data[y]['text'][x])):\n",
    "            sentence += (val_data[y]['text'][x][z]['sentence'] + ' ')\n",
    "    val_text_list.append(sentence)\n",
    "    val_abstract_list.append(val_data[y]['abstractive'][0])"
   ]
  },
  {
   "cell_type": "code",
   "execution_count": 7,
   "metadata": {},
   "outputs": [
    {
     "data": {
      "text/plain": [
       "(30122, 30122)"
      ]
     },
     "execution_count": 7,
     "metadata": {},
     "output_type": "execute_result"
    }
   ],
   "source": [
    "len(val_text_list), len(val_abstract_list)"
   ]
  },
  {
   "cell_type": "code",
   "execution_count": 8,
   "metadata": {},
   "outputs": [
    {
     "data": {
      "text/html": [
       "<div>\n",
       "<style scoped>\n",
       "    .dataframe tbody tr th:only-of-type {\n",
       "        vertical-align: middle;\n",
       "    }\n",
       "\n",
       "    .dataframe tbody tr th {\n",
       "        vertical-align: top;\n",
       "    }\n",
       "\n",
       "    .dataframe thead th {\n",
       "        text-align: right;\n",
       "    }\n",
       "</style>\n",
       "<table border=\"1\" class=\"dataframe\">\n",
       "  <thead>\n",
       "    <tr style=\"text-align: right;\">\n",
       "      <th></th>\n",
       "      <th>text</th>\n",
       "      <th>abstract</th>\n",
       "    </tr>\n",
       "  </thead>\n",
       "  <tbody>\n",
       "    <tr>\n",
       "      <th>0</th>\n",
       "      <td>ha당 조사료 400만원…작물별 차등 지원 이성훈 sinawi@hanmail.net...</td>\n",
       "      <td>전라남도가 쌀 과잉문제를 근본적으로 해결하기 위해 올해부터 벼를 심었던 논에 벼 대...</td>\n",
       "    </tr>\n",
       "    <tr>\n",
       "      <th>1</th>\n",
       "      <td>8억 투입, 고소천사벽화·자산마을에 색채 입혀 이성훈 sinawi@hanmail.n...</td>\n",
       "      <td>여수시는 컬러빌리지 사업에 8억원을 투입하여 ‘색채와 빛’ 도시를 완성하여 고소천사...</td>\n",
       "    </tr>\n",
       "    <tr>\n",
       "      <th>2</th>\n",
       "      <td>전남드래곤즈 해맞이 다짐…선수 영입 활발 이성훈 sinawi@hanmail.net ...</td>\n",
       "      <td>전남드래곤즈 임직원과 선수단이 4일 구봉산 정상에 올라 일출을 보며 2018년 구단...</td>\n",
       "    </tr>\n",
       "    <tr>\n",
       "      <th>3</th>\n",
       "      <td>11~24일, 매실·감·참다래 등 지역특화작목 이성훈 sinawi@hanmail.n...</td>\n",
       "      <td>광양시는 농업인들의 경쟁력을 높이고, 소득안정을 위해 매실·감·참다래 등 지역특화작...</td>\n",
       "    </tr>\n",
       "    <tr>\n",
       "      <th>4</th>\n",
       "      <td>홍콩 크루즈선사‘아쿠아리우스’ 4, 6월 여수항 입항 이성훈 sinawi@hanma...</td>\n",
       "      <td>올해 4월과 6월 두 차례에 걸쳐 타이완의 크루즈 관광객 4000여명이 여수에 입항...</td>\n",
       "    </tr>\n",
       "  </tbody>\n",
       "</table>\n",
       "</div>"
      ],
      "text/plain": [
       "                                                text  \\\n",
       "0  ha당 조사료 400만원…작물별 차등 지원 이성훈 sinawi@hanmail.net...   \n",
       "1  8억 투입, 고소천사벽화·자산마을에 색채 입혀 이성훈 sinawi@hanmail.n...   \n",
       "2  전남드래곤즈 해맞이 다짐…선수 영입 활발 이성훈 sinawi@hanmail.net ...   \n",
       "3  11~24일, 매실·감·참다래 등 지역특화작목 이성훈 sinawi@hanmail.n...   \n",
       "4  홍콩 크루즈선사‘아쿠아리우스’ 4, 6월 여수항 입항 이성훈 sinawi@hanma...   \n",
       "\n",
       "                                            abstract  \n",
       "0  전라남도가 쌀 과잉문제를 근본적으로 해결하기 위해 올해부터 벼를 심었던 논에 벼 대...  \n",
       "1  여수시는 컬러빌리지 사업에 8억원을 투입하여 ‘색채와 빛’ 도시를 완성하여 고소천사...  \n",
       "2  전남드래곤즈 임직원과 선수단이 4일 구봉산 정상에 올라 일출을 보며 2018년 구단...  \n",
       "3  광양시는 농업인들의 경쟁력을 높이고, 소득안정을 위해 매실·감·참다래 등 지역특화작...  \n",
       "4  올해 4월과 6월 두 차례에 걸쳐 타이완의 크루즈 관광객 4000여명이 여수에 입항...  "
      ]
     },
     "execution_count": 8,
     "metadata": {},
     "output_type": "execute_result"
    }
   ],
   "source": [
    "train_df = pd.DataFrame([x for x in zip(train_text_list, train_abstract_list)]\n",
    "                       , columns= ['text','abstract'])\n",
    "train_df.head()"
   ]
  },
  {
   "cell_type": "code",
   "execution_count": 9,
   "metadata": {},
   "outputs": [
    {
     "data": {
      "text/html": [
       "<div>\n",
       "<style scoped>\n",
       "    .dataframe tbody tr th:only-of-type {\n",
       "        vertical-align: middle;\n",
       "    }\n",
       "\n",
       "    .dataframe tbody tr th {\n",
       "        vertical-align: top;\n",
       "    }\n",
       "\n",
       "    .dataframe thead th {\n",
       "        text-align: right;\n",
       "    }\n",
       "</style>\n",
       "<table border=\"1\" class=\"dataframe\">\n",
       "  <thead>\n",
       "    <tr style=\"text-align: right;\">\n",
       "      <th></th>\n",
       "      <th>text</th>\n",
       "      <th>abstract</th>\n",
       "    </tr>\n",
       "  </thead>\n",
       "  <tbody>\n",
       "    <tr>\n",
       "      <th>0</th>\n",
       "      <td>[ 박재원 기자 ] '대한민국 5G 홍보대사'를 자처한 문재인 대통령은 \"넓고, 체...</td>\n",
       "      <td>8일 서울에서 열린 5G플러스 전략발표에 참석한 문재인 대통령은 5G는 대한민국 혁...</td>\n",
       "    </tr>\n",
       "    <tr>\n",
       "      <th>1</th>\n",
       "      <td>] 당 지도부 퇴진을 놓고 바른미래당 내홍이 격화되고 있다. 바른미래당이 8일 연 ...</td>\n",
       "      <td>8일 바른미래당 최고의원 회의에 하태경 의원 등 5명의 최고의원이 지도부 퇴진을 요...</td>\n",
       "    </tr>\n",
       "    <tr>\n",
       "      <th>2</th>\n",
       "      <td>[ 홍윤정 기자 ] 8일 서울 올림픽공원 K아트홀. 지난 3일 한국이 세계 최초로 ...</td>\n",
       "      <td>지난 3일 한국이 세계 첫 5세대 이동통신 서비스를 보편화한 것을 축하하는 '코리안...</td>\n",
       "    </tr>\n",
       "    <tr>\n",
       "      <th>3</th>\n",
       "      <td>] 박원순 서울시장(사진)이 8일 고층 재개발·재건축 관련 요구에 작심한 듯 쓴소리...</td>\n",
       "      <td>박원순 서울시장은 8일 서울시청에서 열린 '골목길 재생 시민 정책 대화'에 참석하여...</td>\n",
       "    </tr>\n",
       "    <tr>\n",
       "      <th>4</th>\n",
       "      <td>[ 임근호 기자 ] \"SK(주)와 미국 알파벳(구글 지주회사)의 간결한 지배구조를 ...</td>\n",
       "      <td>주주가치 포커스를 운용하는 KB자산운용이  SK와 알파벳(구글 지주회사)의 모범적 ...</td>\n",
       "    </tr>\n",
       "  </tbody>\n",
       "</table>\n",
       "</div>"
      ],
      "text/plain": [
       "                                                text  \\\n",
       "0  [ 박재원 기자 ] '대한민국 5G 홍보대사'를 자처한 문재인 대통령은 \"넓고, 체...   \n",
       "1  ] 당 지도부 퇴진을 놓고 바른미래당 내홍이 격화되고 있다. 바른미래당이 8일 연 ...   \n",
       "2  [ 홍윤정 기자 ] 8일 서울 올림픽공원 K아트홀. 지난 3일 한국이 세계 최초로 ...   \n",
       "3  ] 박원순 서울시장(사진)이 8일 고층 재개발·재건축 관련 요구에 작심한 듯 쓴소리...   \n",
       "4  [ 임근호 기자 ] \"SK(주)와 미국 알파벳(구글 지주회사)의 간결한 지배구조를 ...   \n",
       "\n",
       "                                            abstract  \n",
       "0  8일 서울에서 열린 5G플러스 전략발표에 참석한 문재인 대통령은 5G는 대한민국 혁...  \n",
       "1  8일 바른미래당 최고의원 회의에 하태경 의원 등 5명의 최고의원이 지도부 퇴진을 요...  \n",
       "2  지난 3일 한국이 세계 첫 5세대 이동통신 서비스를 보편화한 것을 축하하는 '코리안...  \n",
       "3  박원순 서울시장은 8일 서울시청에서 열린 '골목길 재생 시민 정책 대화'에 참석하여...  \n",
       "4  주주가치 포커스를 운용하는 KB자산운용이  SK와 알파벳(구글 지주회사)의 모범적 ...  "
      ]
     },
     "execution_count": 9,
     "metadata": {},
     "output_type": "execute_result"
    }
   ],
   "source": [
    "validation_df = pd.DataFrame([x for x in zip(val_text_list, val_abstract_list)]\n",
    "                       , columns= ['text','abstract'])\n",
    "validation_df.head()"
   ]
  },
  {
   "cell_type": "code",
   "execution_count": 10,
   "metadata": {},
   "outputs": [
    {
     "data": {
      "text/plain": [
       "((271093, 2), (30122, 2))"
      ]
     },
     "execution_count": 10,
     "metadata": {},
     "output_type": "execute_result"
    }
   ],
   "source": [
    "# train, validation dataframe\n",
    "\n",
    "train_df.shape, validation_df.shape"
   ]
  },
  {
   "cell_type": "markdown",
   "metadata": {},
   "source": [
    "### 불용어 사전불러오기\n",
    "- https://www.ranks.nl/stopwords/korean 참고"
   ]
  },
  {
   "cell_type": "code",
   "execution_count": 11,
   "metadata": {},
   "outputs": [
    {
     "data": {
      "text/plain": [
       "['아',\n",
       " '휴',\n",
       " '아이구',\n",
       " '아이쿠',\n",
       " '아이고',\n",
       " '어',\n",
       " '나',\n",
       " '우리',\n",
       " '저희',\n",
       " '따라',\n",
       " '의해',\n",
       " '을',\n",
       " '를',\n",
       " '에',\n",
       " '의',\n",
       " '가',\n",
       " '으로',\n",
       " '로',\n",
       " '에게',\n",
       " '뿐이다',\n",
       " '의거하여',\n",
       " '근거하여',\n",
       " '입각하여',\n",
       " '기준으로',\n",
       " '예하면',\n",
       " '예를 들면',\n",
       " '예를 들자면',\n",
       " '저',\n",
       " '소인',\n",
       " '소생',\n",
       " '저희',\n",
       " '지말고',\n",
       " '하지마',\n",
       " '하지마라',\n",
       " '다른',\n",
       " '물론',\n",
       " '또한',\n",
       " '그리고',\n",
       " '비길수 없다',\n",
       " '해서는 안된다',\n",
       " '뿐만 아니라',\n",
       " '만이 아니다',\n",
       " '만은 아니다',\n",
       " '막론하고',\n",
       " '관계없이',\n",
       " '그치지 않다',\n",
       " '그러나',\n",
       " '그런데',\n",
       " '하지만',\n",
       " '든간에',\n",
       " '논하지 않다',\n",
       " '따지지 않다',\n",
       " '설사',\n",
       " '비록',\n",
       " '더라도',\n",
       " '아니면',\n",
       " '만 못하다',\n",
       " '하는 편이 낫다',\n",
       " '불문하고',\n",
       " '향하여',\n",
       " '향해서',\n",
       " '향하다',\n",
       " '쪽으로',\n",
       " '틈타',\n",
       " '이용하여',\n",
       " '타다',\n",
       " '오르다',\n",
       " '제외하고',\n",
       " '이 외에',\n",
       " '이 밖에',\n",
       " '하여야',\n",
       " '비로소',\n",
       " '한다면 몰라도',\n",
       " '외에도',\n",
       " '이곳',\n",
       " '여기',\n",
       " '부터',\n",
       " '기점으로',\n",
       " '따라서',\n",
       " '할 생각이다',\n",
       " '하려고하다',\n",
       " '이리하여',\n",
       " '그리하여',\n",
       " '그렇게 함으로써',\n",
       " '하지만',\n",
       " '일때',\n",
       " '할때',\n",
       " '앞에서',\n",
       " '중에서',\n",
       " '보는데서',\n",
       " '으로써',\n",
       " '로써',\n",
       " '까지',\n",
       " '해야한다',\n",
       " '일것이다',\n",
       " '반드시',\n",
       " '할줄알다',\n",
       " '할수있다',\n",
       " '할수있어',\n",
       " '임에 틀림없다',\n",
       " '한다면',\n",
       " '등',\n",
       " '등등',\n",
       " '제',\n",
       " '겨우',\n",
       " '단지',\n",
       " '다만',\n",
       " '할뿐',\n",
       " '딩동',\n",
       " '댕그',\n",
       " '대해서',\n",
       " '대하여',\n",
       " '대하면',\n",
       " '훨씬',\n",
       " '얼마나',\n",
       " '얼마만큼',\n",
       " '얼마큼',\n",
       " '남짓',\n",
       " '여',\n",
       " '얼마간',\n",
       " '약간',\n",
       " '다소',\n",
       " '좀',\n",
       " '조금',\n",
       " '다수',\n",
       " '몇',\n",
       " '얼마',\n",
       " '지만',\n",
       " '하물며',\n",
       " '또한',\n",
       " '그러나',\n",
       " '그렇지만',\n",
       " '하지만',\n",
       " '이외에도',\n",
       " '대해 말하자면',\n",
       " '뿐이다',\n",
       " '다음에',\n",
       " '반대로',\n",
       " '반대로 말하자면',\n",
       " '이와 반대로',\n",
       " '바꾸어서 말하면',\n",
       " '바꾸어서 한다면',\n",
       " '만약',\n",
       " '그렇지않으면',\n",
       " '까악',\n",
       " '툭',\n",
       " '딱',\n",
       " '삐걱거리다',\n",
       " '보드득',\n",
       " '비걱거리다',\n",
       " '꽈당',\n",
       " '응당',\n",
       " '해야한다',\n",
       " '에 가서',\n",
       " '각',\n",
       " '각각',\n",
       " '여러분',\n",
       " '각종',\n",
       " '각자',\n",
       " '제각기',\n",
       " '하도록하다',\n",
       " '와',\n",
       " '과',\n",
       " '그러므로',\n",
       " '그래서',\n",
       " '고로',\n",
       " '한 까닭에',\n",
       " '하기 때문에',\n",
       " '거니와',\n",
       " '이지만',\n",
       " '대하여',\n",
       " '관하여',\n",
       " '관한',\n",
       " '과연',\n",
       " '실로',\n",
       " '아니나다를가',\n",
       " '생각한대로',\n",
       " '진짜로',\n",
       " '한적이있다',\n",
       " '하곤하였다',\n",
       " '하',\n",
       " '하하',\n",
       " '허허',\n",
       " '아하',\n",
       " '거바',\n",
       " '와',\n",
       " '오',\n",
       " '왜',\n",
       " '어째서',\n",
       " '무엇때문에',\n",
       " '어찌',\n",
       " '하겠는가',\n",
       " '무슨',\n",
       " '어디',\n",
       " '어느곳',\n",
       " '더군다나',\n",
       " '하물며',\n",
       " '더욱이는',\n",
       " '어느때',\n",
       " '언제',\n",
       " '야',\n",
       " '이봐',\n",
       " '어이',\n",
       " '여보시오',\n",
       " '흐흐',\n",
       " '흥',\n",
       " '휴',\n",
       " '헉헉',\n",
       " '헐떡헐떡',\n",
       " '영차',\n",
       " '여차',\n",
       " '어기여차',\n",
       " '끙끙',\n",
       " '아야',\n",
       " '앗',\n",
       " '아야',\n",
       " '콸콸',\n",
       " '졸졸',\n",
       " '좍좍',\n",
       " '뚝뚝',\n",
       " '주룩주룩',\n",
       " '솨',\n",
       " '우르르',\n",
       " '그래도',\n",
       " '또',\n",
       " '그리고',\n",
       " '바꾸어말하면',\n",
       " '바꾸어말하자면',\n",
       " '혹은',\n",
       " '혹시',\n",
       " '답다',\n",
       " '및',\n",
       " '그에 따르는',\n",
       " '때가 되어',\n",
       " '즉',\n",
       " '지든지',\n",
       " '설령',\n",
       " '가령',\n",
       " '하더라도',\n",
       " '할지라도',\n",
       " '일지라도',\n",
       " '지든지',\n",
       " '몇',\n",
       " '거의',\n",
       " '하마터면',\n",
       " '인젠',\n",
       " '이젠',\n",
       " '된바에야',\n",
       " '된이상',\n",
       " '만큼\\t어찌됏든',\n",
       " '그위에',\n",
       " '게다가',\n",
       " '점에서 보아',\n",
       " '비추어 보아',\n",
       " '고려하면',\n",
       " '하게될것이다',\n",
       " '일것이다',\n",
       " '비교적',\n",
       " '좀',\n",
       " '보다더',\n",
       " '비하면',\n",
       " '시키다',\n",
       " '하게하다',\n",
       " '할만하다',\n",
       " '의해서',\n",
       " '연이서',\n",
       " '이어서',\n",
       " '잇따라',\n",
       " '뒤따라',\n",
       " '뒤이어',\n",
       " '결국',\n",
       " '의지하여',\n",
       " '기대여',\n",
       " '통하여',\n",
       " '자마자',\n",
       " '더욱더',\n",
       " '불구하고',\n",
       " '얼마든지',\n",
       " '마음대로',\n",
       " '주저하지 않고',\n",
       " '곧',\n",
       " '즉시',\n",
       " '바로',\n",
       " '당장',\n",
       " '하자마자',\n",
       " '밖에 안된다',\n",
       " '하면된다',\n",
       " '그래',\n",
       " '그렇지',\n",
       " '요컨대',\n",
       " '다시 말하자면',\n",
       " '바꿔 말하면',\n",
       " '즉',\n",
       " '구체적으로',\n",
       " '말하자면',\n",
       " '시작하여',\n",
       " '시초에',\n",
       " '이상',\n",
       " '허',\n",
       " '헉',\n",
       " '허걱',\n",
       " '바와같이',\n",
       " '해도좋다',\n",
       " '해도된다',\n",
       " '게다가',\n",
       " '더구나',\n",
       " '하물며',\n",
       " '와르르',\n",
       " '팍',\n",
       " '퍽',\n",
       " '펄렁',\n",
       " '동안',\n",
       " '이래',\n",
       " '하고있었다',\n",
       " '이었다',\n",
       " '에서',\n",
       " '로부터',\n",
       " '까지',\n",
       " '예하면',\n",
       " '했어요',\n",
       " '해요',\n",
       " '함께',\n",
       " '같이',\n",
       " '더불어',\n",
       " '마저',\n",
       " '마저도',\n",
       " '양자',\n",
       " '모두',\n",
       " '습니다',\n",
       " '가까스로',\n",
       " '하려고하다',\n",
       " '즈음하여',\n",
       " '다른',\n",
       " '다른 방면으로',\n",
       " '해봐요',\n",
       " '습니까',\n",
       " '했어요',\n",
       " '말할것도 없고',\n",
       " '무릎쓰고',\n",
       " '개의치않고',\n",
       " '하는것만 못하다',\n",
       " '하는것이 낫다',\n",
       " '매',\n",
       " '매번',\n",
       " '들',\n",
       " '모',\n",
       " '어느것',\n",
       " '어느',\n",
       " '로써',\n",
       " '갖고말하자면',\n",
       " '어디',\n",
       " '어느쪽',\n",
       " '어느것',\n",
       " '어느해',\n",
       " '어느 년도',\n",
       " '라 해도',\n",
       " '언젠가',\n",
       " '어떤것',\n",
       " '어느것',\n",
       " '저기',\n",
       " '저쪽',\n",
       " '저것',\n",
       " '그때',\n",
       " '그럼',\n",
       " '그러면',\n",
       " '요만한걸',\n",
       " '그래',\n",
       " '그때',\n",
       " '저것만큼',\n",
       " '그저',\n",
       " '이르기까지',\n",
       " '할 줄 안다',\n",
       " '할 힘이 있다',\n",
       " '너',\n",
       " '너희',\n",
       " '당신',\n",
       " '어찌',\n",
       " '설마',\n",
       " '차라리',\n",
       " '할지언정',\n",
       " '할지라도',\n",
       " '할망정',\n",
       " '할지언정',\n",
       " '구토하다',\n",
       " '게우다',\n",
       " '토하다',\n",
       " '메쓰겁다',\n",
       " '옆사람',\n",
       " '퉤',\n",
       " '쳇',\n",
       " '의거하여',\n",
       " '근거하여',\n",
       " '의해',\n",
       " '따라',\n",
       " '힘입어',\n",
       " '그',\n",
       " '다음',\n",
       " '버금',\n",
       " '두번째로',\n",
       " '기타',\n",
       " '첫번째로',\n",
       " '나머지는',\n",
       " '그중에서',\n",
       " '견지에서',\n",
       " '형식으로 쓰여',\n",
       " '입장에서',\n",
       " '위해서',\n",
       " '단지',\n",
       " '의해되다',\n",
       " '하도록시키다',\n",
       " '뿐만아니라',\n",
       " '반대로',\n",
       " '전후',\n",
       " '전자',\n",
       " '앞의것',\n",
       " '잠시',\n",
       " '잠깐',\n",
       " '하면서',\n",
       " '그렇지만',\n",
       " '다음에',\n",
       " '그러한즉',\n",
       " '그런즉',\n",
       " '남들',\n",
       " '아무거나',\n",
       " '어찌하든지',\n",
       " '같다',\n",
       " '비슷하다',\n",
       " '예컨대',\n",
       " '이럴정도로',\n",
       " '어떻게',\n",
       " '만약',\n",
       " '만일',\n",
       " '위에서 서술한바와같이',\n",
       " '인 듯하다',\n",
       " '하지 않는다면',\n",
       " '만약에',\n",
       " '무엇',\n",
       " '무슨',\n",
       " '어느',\n",
       " '어떤',\n",
       " '아래윗',\n",
       " '조차',\n",
       " '한데',\n",
       " '그럼에도 불구하고',\n",
       " '여전히',\n",
       " '심지어',\n",
       " '까지도',\n",
       " '조차도',\n",
       " '하지 않도록',\n",
       " '않기 위하여',\n",
       " '때',\n",
       " '시각',\n",
       " '무렵',\n",
       " '시간',\n",
       " '동안',\n",
       " '어때',\n",
       " '어떠한',\n",
       " '하여금',\n",
       " '네',\n",
       " '예',\n",
       " '우선',\n",
       " '누구',\n",
       " '누가 알겠는가',\n",
       " '아무도',\n",
       " '줄은모른다',\n",
       " '줄은 몰랏다',\n",
       " '하는 김에',\n",
       " '겸사겸사',\n",
       " '하는바',\n",
       " '그런 까닭에',\n",
       " '한 이유는',\n",
       " '그러니',\n",
       " '그러니까',\n",
       " '때문에',\n",
       " '그',\n",
       " '너희',\n",
       " '그들',\n",
       " '너희들',\n",
       " '타인',\n",
       " '것',\n",
       " '것들',\n",
       " '너',\n",
       " '위하여',\n",
       " '공동으로',\n",
       " '동시에',\n",
       " '하기 위하여',\n",
       " '어찌하여',\n",
       " '무엇때문에',\n",
       " '붕붕',\n",
       " '윙윙',\n",
       " '나',\n",
       " '우리',\n",
       " '엉엉',\n",
       " '휘익',\n",
       " '윙윙',\n",
       " '오호',\n",
       " '아하',\n",
       " '어쨋든',\n",
       " '만 못하다\\t하기보다는',\n",
       " '차라리',\n",
       " '하는 편이 낫다',\n",
       " '흐흐',\n",
       " '놀라다',\n",
       " '상대적으로 말하자면',\n",
       " '마치',\n",
       " '아니라면',\n",
       " '쉿',\n",
       " '그렇지 않으면',\n",
       " '그렇지 않다면',\n",
       " '안 그러면',\n",
       " '아니었다면',\n",
       " '하든지',\n",
       " '아니면',\n",
       " '이라면',\n",
       " '좋아',\n",
       " '알았어',\n",
       " '하는것도',\n",
       " '그만이다',\n",
       " '어쩔수 없다',\n",
       " '하나',\n",
       " '일',\n",
       " '일반적으로',\n",
       " '일단',\n",
       " '한켠으로는',\n",
       " '오자마자',\n",
       " '이렇게되면',\n",
       " '이와같다면',\n",
       " '전부',\n",
       " '한마디',\n",
       " '한항목',\n",
       " '근거로',\n",
       " '하기에',\n",
       " '아울러',\n",
       " '하지 않도록',\n",
       " '않기 위해서',\n",
       " '이르기까지',\n",
       " '이 되다',\n",
       " '로 인하여',\n",
       " '까닭으로',\n",
       " '이유만으로',\n",
       " '이로 인하여',\n",
       " '그래서',\n",
       " '이 때문에',\n",
       " '그러므로',\n",
       " '그런 까닭에',\n",
       " '알 수 있다',\n",
       " '결론을 낼 수 있다',\n",
       " '으로 인하여',\n",
       " '있다',\n",
       " '어떤것',\n",
       " '관계가 있다',\n",
       " '관련이 있다',\n",
       " '연관되다',\n",
       " '어떤것들',\n",
       " '에 대해',\n",
       " '이리하여',\n",
       " '그리하여',\n",
       " '여부',\n",
       " '하기보다는',\n",
       " '하느니',\n",
       " '하면 할수록',\n",
       " '운운',\n",
       " '이러이러하다',\n",
       " '하구나',\n",
       " '하도다',\n",
       " '다시말하면',\n",
       " '다음으로',\n",
       " '에 있다',\n",
       " '에 달려 있다',\n",
       " '우리',\n",
       " '우리들',\n",
       " '오히려',\n",
       " '하기는한데',\n",
       " '어떻게',\n",
       " '어떻해',\n",
       " '어찌됏어',\n",
       " '어때',\n",
       " '어째서',\n",
       " '본대로',\n",
       " '자',\n",
       " '이',\n",
       " '이쪽',\n",
       " '여기',\n",
       " '이것',\n",
       " '이번',\n",
       " '이렇게말하자면',\n",
       " '이런',\n",
       " '이러한',\n",
       " '이와 같은',\n",
       " '요만큼',\n",
       " '요만한 것',\n",
       " '얼마 안 되는 것',\n",
       " '이만큼',\n",
       " '이 정도의',\n",
       " '이렇게 많은 것',\n",
       " '이와 같다',\n",
       " '이때',\n",
       " '이렇구나',\n",
       " '것과 같이',\n",
       " '끼익',\n",
       " '삐걱',\n",
       " '따위',\n",
       " '와 같은 사람들',\n",
       " '부류의 사람들',\n",
       " '왜냐하면',\n",
       " '중의하나',\n",
       " '오직',\n",
       " '오로지',\n",
       " '에 한하다',\n",
       " '하기만 하면',\n",
       " '도착하다',\n",
       " '까지 미치다',\n",
       " '도달하다',\n",
       " '정도에 이르다',\n",
       " '할 지경이다',\n",
       " '결과에 이르다',\n",
       " '관해서는',\n",
       " '여러분',\n",
       " '하고 있다',\n",
       " '한 후',\n",
       " '혼자',\n",
       " '자기',\n",
       " '자기집',\n",
       " '자신',\n",
       " '우에 종합한것과같이',\n",
       " '총적으로 보면',\n",
       " '총적으로 말하면',\n",
       " '총적으로',\n",
       " '대로 하다',\n",
       " '으로서',\n",
       " '참',\n",
       " '그만이다',\n",
       " '할 따름이다',\n",
       " '쿵',\n",
       " '탕탕',\n",
       " '쾅쾅',\n",
       " '둥둥',\n",
       " '봐',\n",
       " '봐라',\n",
       " '아이야',\n",
       " '아니',\n",
       " '와아',\n",
       " '응',\n",
       " '아이',\n",
       " '참나',\n",
       " '년',\n",
       " '월',\n",
       " '일',\n",
       " '령',\n",
       " '영',\n",
       " '일',\n",
       " '이',\n",
       " '삼',\n",
       " '사',\n",
       " '오',\n",
       " '육',\n",
       " '륙',\n",
       " '칠',\n",
       " '팔',\n",
       " '구',\n",
       " '이천육',\n",
       " '이천칠',\n",
       " '이천팔',\n",
       " '이천구',\n",
       " '하나',\n",
       " '둘',\n",
       " '셋',\n",
       " '넷',\n",
       " '다섯',\n",
       " '여섯',\n",
       " '일곱',\n",
       " '여덟',\n",
       " '아홉',\n",
       " '령',\n",
       " '영']"
      ]
     },
     "execution_count": 11,
     "metadata": {},
     "output_type": "execute_result"
    }
   ],
   "source": [
    "stopwords = open(text_dir+'stopwords.txt', mode='rt', encoding='utf-8')\n",
    "stop_words = stopwords.read().split('\\n')\n",
    "stop_words        # 불용어 리스트"
   ]
  },
  {
   "cell_type": "code",
   "execution_count": 12,
   "metadata": {},
   "outputs": [
    {
     "data": {
      "text/plain": [
       "675"
      ]
     },
     "execution_count": 12,
     "metadata": {},
     "output_type": "execute_result"
    }
   ],
   "source": [
    "len(stop_words)"
   ]
  },
  {
   "cell_type": "markdown",
   "metadata": {},
   "source": [
    "### 데이터 정제"
   ]
  },
  {
   "cell_type": "code",
   "execution_count": 13,
   "metadata": {},
   "outputs": [
    {
     "data": {
      "text/plain": [
       "270637"
      ]
     },
     "execution_count": 13,
     "metadata": {},
     "output_type": "execute_result"
    }
   ],
   "source": [
    "# 중복확인\n",
    "train_df['text'].nunique() # 271093 ->"
   ]
  },
  {
   "cell_type": "code",
   "execution_count": 14,
   "metadata": {},
   "outputs": [
    {
     "data": {
      "text/plain": [
       "271076"
      ]
     },
     "execution_count": 14,
     "metadata": {},
     "output_type": "execute_result"
    }
   ],
   "source": [
    "train_df['abstract'].nunique()"
   ]
  },
  {
   "cell_type": "code",
   "execution_count": 15,
   "metadata": {},
   "outputs": [
    {
     "data": {
      "text/plain": [
       "29830"
      ]
     },
     "execution_count": 15,
     "metadata": {},
     "output_type": "execute_result"
    }
   ],
   "source": [
    "validation_df['text'].nunique() # 30122 ->"
   ]
  },
  {
   "cell_type": "code",
   "execution_count": 16,
   "metadata": {},
   "outputs": [
    {
     "data": {
      "text/plain": [
       "30122"
      ]
     },
     "execution_count": 16,
     "metadata": {},
     "output_type": "execute_result"
    }
   ],
   "source": [
    "validation_df['abstract'].nunique()"
   ]
  },
  {
   "cell_type": "code",
   "execution_count": 17,
   "metadata": {},
   "outputs": [
    {
     "data": {
      "text/plain": [
       "((270637, 2), (29830, 2))"
      ]
     },
     "execution_count": 17,
     "metadata": {},
     "output_type": "execute_result"
    }
   ],
   "source": [
    "# 중복제거(text기준)\n",
    "\n",
    "train_df.drop_duplicates(subset=['text'], inplace=True)\n",
    "validation_df.drop_duplicates(subset=['text'], inplace=True)\n",
    "\n",
    "train_df.shape, validation_df.shape"
   ]
  },
  {
   "cell_type": "code",
   "execution_count": 18,
   "metadata": {},
   "outputs": [
    {
     "data": {
      "text/plain": [
       "(0, 0)"
      ]
     },
     "execution_count": 18,
     "metadata": {},
     "output_type": "execute_result"
    }
   ],
   "source": [
    "# null값 확인(없음)\n",
    "\n",
    "train_df.isnull().sum().sum(), validation_df.isnull().sum().sum()"
   ]
  },
  {
   "cell_type": "markdown",
   "metadata": {},
   "source": [
    "### 데이터 전처리"
   ]
  },
  {
   "cell_type": "code",
   "execution_count": 19,
   "metadata": {},
   "outputs": [],
   "source": [
    "# tokenizer 및 메타문자 제거하기\n",
    "# 전처리 함수(각 문장)\n",
    "def preprocess_sentence(sentence, remove_stopwords =True):\n",
    "    #sentence = re.sub(r'\\([^)]*\\)', '',sentence) # 괄호로 닫힌 문자열 제거\n",
    "    sentence = re.sub('([a-zA-Z0-9_.+-]+@[a-zA-Z0-9-]+\\.[a-zA-Z0-9-.]+)', '', sentence) # email주소 제거\n",
    "    sentence = re.sub('(http|ftp|https)://(?:[-\\w.]|(?:%[\\da-fA-F]{2}))+', '', sentence) # url 제거\n",
    "    sentence = re.sub('([ㄱ-ㅎㅏ-ㅣ]+)', '', sentence)  # 한글자음, 모음 제거 (ㅋㅋㅎㅎ..)\n",
    "    sentence = re.sub('<[^>]*>', '', sentence)          # html태그 제거(<H1> .. </H1>)\n",
    "    #sentence = re.sub('[^\\w\\s]', '', sentence)  # 특수기호 제거\n",
    "    sentence = re.sub('[-=+#/\\?:^$@*\\\"※~&%ㆍ!』\\\\‘|\\(\\)\\[\\]\\<\\>`\\…》]', '', sentence)\n",
    "    \n",
    "    \n",
    "    # 불용어 제거\n",
    "    if remove_stopwords:    # text\n",
    "        tokens = ' '.join(word for word in sentence.split() if not word in stop_words if len(word)>1)\n",
    "    else:                   # abstract\n",
    "        tokens = ' '.join(word for word in sentence.split() if len(word)>1)\n",
    "    return tokens"
   ]
  },
  {
   "cell_type": "code",
   "execution_count": 20,
   "metadata": {},
   "outputs": [],
   "source": [
    "#readData = \"안녕하'세'요, [는 용욱이야.!!!.\"\n",
    "#text = re.sub('[-=+,#/\\?:^$.@*\\\"※~&%ㆍ!』\\\\‘|\\(\\)\\[\\]\\<\\>`\\'…》]', '', readData)\n",
    "#text"
   ]
  },
  {
   "cell_type": "code",
   "execution_count": 21,
   "metadata": {},
   "outputs": [],
   "source": [
    "# text, abstract 열 전처리\n",
    "clean_text_train = []\n",
    "clean_summary_train =[]\n",
    "clean_text_val = []\n",
    "clean_summary_val = []\n",
    "for x in train_df['text']:\n",
    "    clean_text_train.append(preprocess_sentence(x))\n",
    "for x in train_df['abstract']:\n",
    "    clean_summary_train.append(preprocess_sentence(x, 0))\n",
    "for x in validation_df['text']:\n",
    "    clean_text_val.append(preprocess_sentence(x))\n",
    "for x in validation_df['abstract']:\n",
    "    clean_summary_val.append(preprocess_sentence(x, 0))"
   ]
  },
  {
   "cell_type": "code",
   "execution_count": 22,
   "metadata": {},
   "outputs": [],
   "source": [
    "train_df['text'] = clean_text_train\n",
    "train_df['abstract'] = clean_summary_train\n",
    "validation_df['text'] = clean_text_val\n",
    "validation_df['abstract'] = clean_summary_val"
   ]
  },
  {
   "cell_type": "code",
   "execution_count": 23,
   "metadata": {},
   "outputs": [
    {
     "data": {
      "text/plain": [
       "(0, 0)"
      ]
     },
     "execution_count": 23,
     "metadata": {},
     "output_type": "execute_result"
    }
   ],
   "source": [
    "train_df.isnull().sum().sum(), validation_df.isnull().sum().sum()"
   ]
  },
  {
   "cell_type": "code",
   "execution_count": 24,
   "metadata": {},
   "outputs": [
    {
     "name": "stdout",
     "output_type": "stream",
     "text": [
      "텍스트의 최소 길이 : 42\n",
      "텍스트의 최대 길이 : 2957\n",
      "텍스트의 평균 길이 : 203.77634248088768\n",
      "요약의 최소 길이 : 0\n",
      "요약의 최대 길이 : 155\n",
      "요약의 평균 길이 : 27.353111363191285\n"
     ]
    },
    {
     "data": {
      "image/png": "[encoded data removed]",
      "text/plain": [
       "<Figure size 432x288 with 2 Axes>"
      ]
     },
     "metadata": {
      "needs_background": "light"
     },
     "output_type": "display_data"
    },
    {
     "data": {
      "image/png": "[encoded data removed]",
      "text/plain": [
       "<Figure size 432x288 with 1 Axes>"
      ]
     },
     "metadata": {
      "needs_background": "light"
     },
     "output_type": "display_data"
    },
    {
     "data": {
      "image/png": "[encoded data removed]",
      "text/plain": [
       "<Figure size 432x288 with 1 Axes>"
      ]
     },
     "metadata": {
      "needs_background": "light"
     },
     "output_type": "display_data"
    }
   ],
   "source": [
    "# text열과 abstract열에 대해 길이 분포 확인(train)\n",
    "# 길이 분포 출력\n",
    "text_len = [len(s.split()) for s in train_df['text']]\n",
    "summary_len = [len(s.split()) for s in train_df['abstract']]\n",
    "\n",
    "print('텍스트의 최소 길이 : {}'.format(np.min(text_len)))\n",
    "print('텍스트의 최대 길이 : {}'.format(np.max(text_len)))\n",
    "print('텍스트의 평균 길이 : {}'.format(np.mean(text_len)))\n",
    "print('요약의 최소 길이 : {}'.format(np.min(summary_len)))\n",
    "print('요약의 최대 길이 : {}'.format(np.max(summary_len)))\n",
    "print('요약의 평균 길이 : {}'.format(np.mean(summary_len)))\n",
    "\n",
    "plt.subplot(1,2,1)\n",
    "plt.boxplot(summary_len)\n",
    "plt.title('Summary')\n",
    "plt.subplot(1,2,2)\n",
    "plt.boxplot(text_len)\n",
    "plt.title('Text')\n",
    "plt.tight_layout()\n",
    "plt.show()\n",
    "\n",
    "plt.title('Summary')\n",
    "plt.hist(summary_len, bins=40)\n",
    "plt.xlabel('length of samples')\n",
    "plt.ylabel('number of samples')\n",
    "plt.xlim([0,60])\n",
    "plt.show()\n",
    "\n",
    "plt.title('Text')\n",
    "plt.hist(text_len, bins=40)\n",
    "plt.xlabel('length of samples')\n",
    "plt.ylabel('number of samples')\n",
    "plt.xlim([0,400])\n",
    "plt.show()"
   ]
  },
  {
   "cell_type": "code",
   "execution_count": 25,
   "metadata": {},
   "outputs": [
    {
     "data": {
      "text/html": [
       "<div>\n",
       "<style scoped>\n",
       "    .dataframe tbody tr th:only-of-type {\n",
       "        vertical-align: middle;\n",
       "    }\n",
       "\n",
       "    .dataframe tbody tr th {\n",
       "        vertical-align: top;\n",
       "    }\n",
       "\n",
       "    .dataframe thead th {\n",
       "        text-align: right;\n",
       "    }\n",
       "</style>\n",
       "<table border=\"1\" class=\"dataframe\">\n",
       "  <thead>\n",
       "    <tr style=\"text-align: right;\">\n",
       "      <th></th>\n",
       "      <th>text</th>\n",
       "      <th>abstract</th>\n",
       "    </tr>\n",
       "  </thead>\n",
       "  <tbody>\n",
       "    <tr>\n",
       "      <th>0</th>\n",
       "      <td>ha당 조사료 400만원작물별 차등 지원 이성훈 전라남도가 과잉문제를 근본적으로 해...</td>\n",
       "      <td>전라남도가 과잉문제를 근본적으로 해결하기 위해 올해부터 벼를 심었던 논에 대신 사료...</td>\n",
       "    </tr>\n",
       "    <tr>\n",
       "      <th>1</th>\n",
       "      <td>8억 투입, 고소천사벽화·자산마을에 색채 입혀 이성훈 여수시는 원도심 일대에서 추진...</td>\n",
       "      <td>여수시는 컬러빌리지 사업에 8억원을 투입하여 색채와 빛’ 도시를 완성하여 고소천사벽...</td>\n",
       "    </tr>\n",
       "    <tr>\n",
       "      <th>2</th>\n",
       "      <td>전남드래곤즈 해맞이 다짐선수 영입 활발 이성훈 전남드래곤즈사장 신승재는 지난 4일 ...</td>\n",
       "      <td>전남드래곤즈 임직원과 선수단이 4일 구봉산 정상에 올라 일출을 보며 2018년 구단...</td>\n",
       "    </tr>\n",
       "    <tr>\n",
       "      <th>3</th>\n",
       "      <td>1124일, 매실·감·참다래 지역특화작목 이성훈 광양시는 오는 11일부터 24일까지...</td>\n",
       "      <td>광양시는 농업인들의 경쟁력을 높이고, 소득안정을 위해 매실·감·참다래 지역특화작목 ...</td>\n",
       "    </tr>\n",
       "    <tr>\n",
       "      <th>4</th>\n",
       "      <td>홍콩 크루즈선사아쿠아리우스’ 4, 6월 여수항 입항 이성훈 타이완의 크루즈관광객 4...</td>\n",
       "      <td>올해 4월과 6월 차례에 걸쳐 타이완의 크루즈 관광객 4000여명이 여수에 입항해 ...</td>\n",
       "    </tr>\n",
       "    <tr>\n",
       "      <th>...</th>\n",
       "      <td>...</td>\n",
       "      <td>...</td>\n",
       "    </tr>\n",
       "    <tr>\n",
       "      <th>271088</th>\n",
       "      <td>노유정 기자 조양호 한진그룹 회장의 갑작스런 타계 소식이 전해진 8일 오전, 서울 ...</td>\n",
       "      <td>8일 미국에서 들려온 조양호 한진그룹 회장의 사망 소식에 서울 공항동 대한항공 본사...</td>\n",
       "    </tr>\n",
       "    <tr>\n",
       "      <th>271089</th>\n",
       "      <td>조양호 한진그룹 회장이 타계하자 재계는 일제히 추모성명을 냈다. 전국경제인연합회는 ...</td>\n",
       "      <td>조양호 한진그룹 회장이 타계하고 8일 전국경제인연합회는 논평을 통해 한국 항공과 물...</td>\n",
       "    </tr>\n",
       "    <tr>\n",
       "      <th>271090</th>\n",
       "      <td>김익환 기자 조양호 한진그룹 회장이 타계하면서 그의 재산을 물려받을 장남 조원태 대...</td>\n",
       "      <td>회장의 한진칼, 한진 상장회사의 주식가격 총합은 3560억 정도 되며 이에 할증률이...</td>\n",
       "    </tr>\n",
       "    <tr>\n",
       "      <th>271091</th>\n",
       "      <td>김보형 기자 조양호 한진그룹 회장이 8일 타계하면서 그의 장남인 조원태 대한항공 사...</td>\n",
       "      <td>지난 8일 조양호 한진그룹 회장이 별세하면서 한진그룹은 비상경영체제에 돌입했고, 그...</td>\n",
       "    </tr>\n",
       "    <tr>\n",
       "      <th>271092</th>\n",
       "      <td>박동휘 기자 국방부가 8일 상반기 장성 인사를 단행했다. 한국군 주도의 한·미 연합...</td>\n",
       "      <td>국방부는 8일 신임 육군참모총장에 '서욱' 합동참모본부 작전본부장, 신임 공군참모총...</td>\n",
       "    </tr>\n",
       "  </tbody>\n",
       "</table>\n",
       "<p>270637 rows × 2 columns</p>\n",
       "</div>"
      ],
      "text/plain": [
       "                                                     text  \\\n",
       "0       ha당 조사료 400만원작물별 차등 지원 이성훈 전라남도가 과잉문제를 근본적으로 해...   \n",
       "1       8억 투입, 고소천사벽화·자산마을에 색채 입혀 이성훈 여수시는 원도심 일대에서 추진...   \n",
       "2       전남드래곤즈 해맞이 다짐선수 영입 활발 이성훈 전남드래곤즈사장 신승재는 지난 4일 ...   \n",
       "3       1124일, 매실·감·참다래 지역특화작목 이성훈 광양시는 오는 11일부터 24일까지...   \n",
       "4       홍콩 크루즈선사아쿠아리우스’ 4, 6월 여수항 입항 이성훈 타이완의 크루즈관광객 4...   \n",
       "...                                                   ...   \n",
       "271088  노유정 기자 조양호 한진그룹 회장의 갑작스런 타계 소식이 전해진 8일 오전, 서울 ...   \n",
       "271089  조양호 한진그룹 회장이 타계하자 재계는 일제히 추모성명을 냈다. 전국경제인연합회는 ...   \n",
       "271090  김익환 기자 조양호 한진그룹 회장이 타계하면서 그의 재산을 물려받을 장남 조원태 대...   \n",
       "271091  김보형 기자 조양호 한진그룹 회장이 8일 타계하면서 그의 장남인 조원태 대한항공 사...   \n",
       "271092  박동휘 기자 국방부가 8일 상반기 장성 인사를 단행했다. 한국군 주도의 한·미 연합...   \n",
       "\n",
       "                                                 abstract  \n",
       "0       전라남도가 과잉문제를 근본적으로 해결하기 위해 올해부터 벼를 심었던 논에 대신 사료...  \n",
       "1       여수시는 컬러빌리지 사업에 8억원을 투입하여 색채와 빛’ 도시를 완성하여 고소천사벽...  \n",
       "2       전남드래곤즈 임직원과 선수단이 4일 구봉산 정상에 올라 일출을 보며 2018년 구단...  \n",
       "3       광양시는 농업인들의 경쟁력을 높이고, 소득안정을 위해 매실·감·참다래 지역특화작목 ...  \n",
       "4       올해 4월과 6월 차례에 걸쳐 타이완의 크루즈 관광객 4000여명이 여수에 입항해 ...  \n",
       "...                                                   ...  \n",
       "271088  8일 미국에서 들려온 조양호 한진그룹 회장의 사망 소식에 서울 공항동 대한항공 본사...  \n",
       "271089  조양호 한진그룹 회장이 타계하고 8일 전국경제인연합회는 논평을 통해 한국 항공과 물...  \n",
       "271090  회장의 한진칼, 한진 상장회사의 주식가격 총합은 3560억 정도 되며 이에 할증률이...  \n",
       "271091  지난 8일 조양호 한진그룹 회장이 별세하면서 한진그룹은 비상경영체제에 돌입했고, 그...  \n",
       "271092  국방부는 8일 신임 육군참모총장에 '서욱' 합동참모본부 작전본부장, 신임 공군참모총...  \n",
       "\n",
       "[270637 rows x 2 columns]"
      ]
     },
     "execution_count": 25,
     "metadata": {},
     "output_type": "execute_result"
    }
   ],
   "source": [
    "train_df"
   ]
  },
  {
   "cell_type": "code",
   "execution_count": 26,
   "metadata": {},
   "outputs": [
    {
     "data": {
      "text/html": [
       "<div>\n",
       "<style scoped>\n",
       "    .dataframe tbody tr th:only-of-type {\n",
       "        vertical-align: middle;\n",
       "    }\n",
       "\n",
       "    .dataframe tbody tr th {\n",
       "        vertical-align: top;\n",
       "    }\n",
       "\n",
       "    .dataframe thead th {\n",
       "        text-align: right;\n",
       "    }\n",
       "</style>\n",
       "<table border=\"1\" class=\"dataframe\">\n",
       "  <thead>\n",
       "    <tr style=\"text-align: right;\">\n",
       "      <th></th>\n",
       "      <th>text</th>\n",
       "      <th>abstract</th>\n",
       "    </tr>\n",
       "  </thead>\n",
       "  <tbody>\n",
       "    <tr>\n",
       "      <th>0</th>\n",
       "      <td>박재원 기자 '대한민국 5G 홍보대사'를 자처한 문재인 대통령은 넓고, 체증 없는 ...</td>\n",
       "      <td>8일 서울에서 열린 5G플러스 전략발표에 참석한 문재인 대통령은 5G는 대한민국 혁...</td>\n",
       "    </tr>\n",
       "    <tr>\n",
       "      <th>1</th>\n",
       "      <td>지도부 퇴진을 놓고 바른미래당 내홍이 격화되고 있다. 바른미래당이 8일 최고위원 회...</td>\n",
       "      <td>8일 바른미래당 최고의원 회의에 하태경 의원 5명의 최고의원이 지도부 퇴진을 요구하...</td>\n",
       "    </tr>\n",
       "    <tr>\n",
       "      <th>2</th>\n",
       "      <td>홍윤정 기자 8일 서울 올림픽공원 K아트홀. 지난 3일 한국이 세계 최초로 5세대5...</td>\n",
       "      <td>지난 3일 한국이 세계 5세대 이동통신 서비스를 보편화한 것을 축하하는 '코리안 5...</td>\n",
       "    </tr>\n",
       "    <tr>\n",
       "      <th>3</th>\n",
       "      <td>박원순 서울시장사진이 8일 고층 재개발·재건축 관련 요구에 작심한 쓴소리를 쏟아냈다...</td>\n",
       "      <td>박원순 서울시장은 8일 서울시청에서 열린 '골목길 재생 시민 정책 대화'에 참석하여...</td>\n",
       "    </tr>\n",
       "    <tr>\n",
       "      <th>4</th>\n",
       "      <td>임근호 기자 SK주와 미국 알파벳구글 지주회사의 간결한 지배구조를 배워라. 기업 지...</td>\n",
       "      <td>주주가치 포커스를 운용하는 KB자산운용이 SK와 알파벳구글 지주회사의 모범적 지배구...</td>\n",
       "    </tr>\n",
       "    <tr>\n",
       "      <th>...</th>\n",
       "      <td>...</td>\n",
       "      <td>...</td>\n",
       "    </tr>\n",
       "    <tr>\n",
       "      <th>30117</th>\n",
       "      <td>영주시는 이억만리에서 건너온 계절근로자들의 향수를 달래고 안정된 한국생활 적응을 돕...</td>\n",
       "      <td>영주시는 외국인 근로자들의 향수를 달래고, 안정적인 한국생활 적응을 지원하기 위해 ...</td>\n",
       "    </tr>\n",
       "    <tr>\n",
       "      <th>30118</th>\n",
       "      <td>여름 방학을 맞아 전국의 국립과학관에서 탐사 50주년과 국제천문연맹IAU 설립 10...</td>\n",
       "      <td>탐사 50주년과 국제천문연맹IAU설립 100주년 기념하는 특별전시가 전국의 국립과학...</td>\n",
       "    </tr>\n",
       "    <tr>\n",
       "      <th>30119</th>\n",
       "      <td>영주문경예천 당원협의회 시국강연 당원교육에 참석차 영주를 방문한 황교안오른쪽 자유한...</td>\n",
       "      <td>황교안 대표는 지난 29일 자유한국당 대표로 경북 영주문경예청 당원협의회 당원교육에...</td>\n",
       "    </tr>\n",
       "    <tr>\n",
       "      <th>30120</th>\n",
       "      <td>경북예천군은 장기적인 국내 경기침체가 지속됨에 사회적경제 기업 육성 등을 통한 일자...</td>\n",
       "      <td>경북예천군은 사회적경제 기업 육성 등을 통한 일자리 창출에 행정동력을 집중한 결과 ...</td>\n",
       "    </tr>\n",
       "    <tr>\n",
       "      <th>30121</th>\n",
       "      <td>3기 신도시 '수도권 30만 가구 공급' 계획이 7월 의왕 청계2, 성남 신촌 공공...</td>\n",
       "      <td>국토교통부에 따르면 의왕 청계2, 성남 신총 4개 지구가 중앙도시계획위 심의를 통과...</td>\n",
       "    </tr>\n",
       "  </tbody>\n",
       "</table>\n",
       "<p>29830 rows × 2 columns</p>\n",
       "</div>"
      ],
      "text/plain": [
       "                                                    text  \\\n",
       "0      박재원 기자 '대한민국 5G 홍보대사'를 자처한 문재인 대통령은 넓고, 체증 없는 ...   \n",
       "1      지도부 퇴진을 놓고 바른미래당 내홍이 격화되고 있다. 바른미래당이 8일 최고위원 회...   \n",
       "2      홍윤정 기자 8일 서울 올림픽공원 K아트홀. 지난 3일 한국이 세계 최초로 5세대5...   \n",
       "3      박원순 서울시장사진이 8일 고층 재개발·재건축 관련 요구에 작심한 쓴소리를 쏟아냈다...   \n",
       "4      임근호 기자 SK주와 미국 알파벳구글 지주회사의 간결한 지배구조를 배워라. 기업 지...   \n",
       "...                                                  ...   \n",
       "30117  영주시는 이억만리에서 건너온 계절근로자들의 향수를 달래고 안정된 한국생활 적응을 돕...   \n",
       "30118  여름 방학을 맞아 전국의 국립과학관에서 탐사 50주년과 국제천문연맹IAU 설립 10...   \n",
       "30119  영주문경예천 당원협의회 시국강연 당원교육에 참석차 영주를 방문한 황교안오른쪽 자유한...   \n",
       "30120  경북예천군은 장기적인 국내 경기침체가 지속됨에 사회적경제 기업 육성 등을 통한 일자...   \n",
       "30121  3기 신도시 '수도권 30만 가구 공급' 계획이 7월 의왕 청계2, 성남 신촌 공공...   \n",
       "\n",
       "                                                abstract  \n",
       "0      8일 서울에서 열린 5G플러스 전략발표에 참석한 문재인 대통령은 5G는 대한민국 혁...  \n",
       "1      8일 바른미래당 최고의원 회의에 하태경 의원 5명의 최고의원이 지도부 퇴진을 요구하...  \n",
       "2      지난 3일 한국이 세계 5세대 이동통신 서비스를 보편화한 것을 축하하는 '코리안 5...  \n",
       "3      박원순 서울시장은 8일 서울시청에서 열린 '골목길 재생 시민 정책 대화'에 참석하여...  \n",
       "4      주주가치 포커스를 운용하는 KB자산운용이 SK와 알파벳구글 지주회사의 모범적 지배구...  \n",
       "...                                                  ...  \n",
       "30117  영주시는 외국인 근로자들의 향수를 달래고, 안정적인 한국생활 적응을 지원하기 위해 ...  \n",
       "30118  탐사 50주년과 국제천문연맹IAU설립 100주년 기념하는 특별전시가 전국의 국립과학...  \n",
       "30119  황교안 대표는 지난 29일 자유한국당 대표로 경북 영주문경예청 당원협의회 당원교육에...  \n",
       "30120  경북예천군은 사회적경제 기업 육성 등을 통한 일자리 창출에 행정동력을 집중한 결과 ...  \n",
       "30121  국토교통부에 따르면 의왕 청계2, 성남 신총 4개 지구가 중앙도시계획위 심의를 통과...  \n",
       "\n",
       "[29830 rows x 2 columns]"
      ]
     },
     "execution_count": 26,
     "metadata": {},
     "output_type": "execute_result"
    }
   ],
   "source": [
    "validation_df"
   ]
  },
  {
   "cell_type": "markdown",
   "metadata": {},
   "source": [
    "# 1. 추출적 요약(TextRank)\n",
    "- KoNLPy 를 tokenizer로 사용"
   ]
  },
  {
   "cell_type": "code",
   "execution_count": 27,
   "metadata": {},
   "outputs": [
    {
     "name": "stdout",
     "output_type": "stream",
     "text": [
      "Collecting git+https://github.com/lovit/textrank.git\n",
      "  Cloning https://github.com/lovit/textrank.git to c:\\users\\yong\\appdata\\local\\temp\\pip-req-build-d38nspoo\n",
      "  Resolved https://github.com/lovit/textrank.git to commit 578c7fbbb22b24561b1bd4bab9a9ecc2dc9515e1\n",
      "  Preparing metadata (setup.py): started\n",
      "  Preparing metadata (setup.py): finished with status 'done'\n",
      "Note: you may need to restart the kernel to use updated packages.\n"
     ]
    },
    {
     "name": "stderr",
     "output_type": "stream",
     "text": [
      "WARNING: Ignoring invalid distribution -atplotlib (c:\\users\\yong\\anaconda3\\lib\\site-packages)\n",
      "WARNING: Ignoring invalid distribution -atplotlib (c:\\users\\yong\\anaconda3\\lib\\site-packages)\n",
      "  Running command git clone --filter=blob:none -q https://github.com/lovit/textrank.git 'C:\\Users\\Yong\\AppData\\Local\\Temp\\pip-req-build-d38nspoo'\n",
      "WARNING: Ignoring invalid distribution -atplotlib (c:\\users\\yong\\anaconda3\\lib\\site-packages)\n",
      "WARNING: Ignoring invalid distribution -atplotlib (c:\\users\\yong\\anaconda3\\lib\\site-packages)\n",
      "WARNING: Ignoring invalid distribution -atplotlib (c:\\users\\yong\\anaconda3\\lib\\site-packages)\n"
     ]
    }
   ],
   "source": [
    "pip install git+https://github.com/lovit/textrank.git"
   ]
  },
  {
   "cell_type": "code",
   "execution_count": 28,
   "metadata": {},
   "outputs": [],
   "source": [
    "#pip install JPype1-1.1.2-cp37-cp37m-win_amd64.whl "
   ]
  },
  {
   "cell_type": "code",
   "execution_count": 29,
   "metadata": {},
   "outputs": [
    {
     "name": "stdout",
     "output_type": "stream",
     "text": [
      "Requirement already satisfied: konlpy in c:\\users\\yong\\anaconda3\\lib\\site-packages (0.5.2)\n",
      "Requirement already satisfied: numpy>=1.6 in c:\\users\\yong\\anaconda3\\lib\\site-packages (from konlpy) (1.18.1)\n",
      "Requirement already satisfied: tweepy>=3.7.0 in c:\\users\\yong\\anaconda3\\lib\\site-packages (from konlpy) (3.10.0)\n",
      "Requirement already satisfied: JPype1>=0.7.0 in c:\\users\\yong\\anaconda3\\lib\\site-packages (from konlpy) (1.3.0)\n",
      "Requirement already satisfied: beautifulsoup4==4.6.0 in c:\\users\\yong\\anaconda3\\lib\\site-packages (from konlpy) (4.6.0)\n",
      "Requirement already satisfied: colorama in c:\\users\\yong\\anaconda3\\lib\\site-packages (from konlpy) (0.4.3)\n",
      "Requirement already satisfied: lxml>=4.1.0 in c:\\users\\yong\\anaconda3\\lib\\site-packages (from konlpy) (4.5.0)\n",
      "Requirement already satisfied: typing-extensions in c:\\users\\yong\\anaconda3\\lib\\site-packages (from JPype1>=0.7.0->konlpy) (3.10.0.2)\n",
      "Requirement already satisfied: requests-oauthlib>=0.7.0 in c:\\users\\yong\\anaconda3\\lib\\site-packages (from tweepy>=3.7.0->konlpy) (1.3.0)\n",
      "Requirement already satisfied: six>=1.10.0 in c:\\users\\yong\\anaconda3\\lib\\site-packages (from tweepy>=3.7.0->konlpy) (1.15.0)\n",
      "Requirement already satisfied: requests[socks]>=2.11.1 in c:\\users\\yong\\anaconda3\\lib\\site-packages (from tweepy>=3.7.0->konlpy) (2.26.0)\n",
      "Requirement already satisfied: oauthlib>=3.0.0 in c:\\users\\yong\\anaconda3\\lib\\site-packages (from requests-oauthlib>=0.7.0->tweepy>=3.7.0->konlpy) (3.1.0)\n",
      "Requirement already satisfied: urllib3<1.27,>=1.21.1 in c:\\users\\yong\\anaconda3\\lib\\site-packages (from requests[socks]>=2.11.1->tweepy>=3.7.0->konlpy) (1.26.3)\n",
      "Requirement already satisfied: idna<4,>=2.5 in c:\\users\\yong\\anaconda3\\lib\\site-packages (from requests[socks]>=2.11.1->tweepy>=3.7.0->konlpy) (3.2)\n",
      "Requirement already satisfied: certifi>=2017.4.17 in c:\\users\\yong\\anaconda3\\lib\\site-packages (from requests[socks]>=2.11.1->tweepy>=3.7.0->konlpy) (2021.5.30)\n",
      "Requirement already satisfied: charset-normalizer~=2.0.0 in c:\\users\\yong\\anaconda3\\lib\\site-packages (from requests[socks]>=2.11.1->tweepy>=3.7.0->konlpy) (2.0.4)\n",
      "Requirement already satisfied: PySocks!=1.5.7,>=1.5.6 in c:\\users\\yong\\anaconda3\\lib\\site-packages (from requests[socks]>=2.11.1->tweepy>=3.7.0->konlpy) (1.7.1)\n",
      "Note: you may need to restart the kernel to use updated packages.\n"
     ]
    },
    {
     "name": "stderr",
     "output_type": "stream",
     "text": [
      "WARNING: Ignoring invalid distribution -atplotlib (c:\\users\\yong\\anaconda3\\lib\\site-packages)\n",
      "WARNING: Ignoring invalid distribution -atplotlib (c:\\users\\yong\\anaconda3\\lib\\site-packages)\n",
      "WARNING: Ignoring invalid distribution -atplotlib (c:\\users\\yong\\anaconda3\\lib\\site-packages)\n",
      "WARNING: Ignoring invalid distribution -atplotlib (c:\\users\\yong\\anaconda3\\lib\\site-packages)\n",
      "WARNING: Ignoring invalid distribution -atplotlib (c:\\users\\yong\\anaconda3\\lib\\site-packages)\n"
     ]
    }
   ],
   "source": [
    "pip install konlpy"
   ]
  },
  {
   "cell_type": "code",
   "execution_count": 30,
   "metadata": {},
   "outputs": [],
   "source": [
    "#pip install textrank"
   ]
  },
  {
   "cell_type": "code",
   "execution_count": 31,
   "metadata": {},
   "outputs": [],
   "source": [
    "# 문장 요약\n",
    "from konlpy.tag import Komoran\n",
    "from textrank import KeysentenceSummarizer\n",
    "import textrank\n",
    "\n",
    "komoran = Komoran()\n",
    "def komoran_tokenizer(sent):\n",
    "    words = komoran.pos(sent, join=True)\n",
    "    words = [w for w in words if ('/NN' in w or '/XR' in w or '/VA' in w or '/VV' in w)]\n",
    "    return words\n",
    "\n",
    "summarizer = KeysentenceSummarizer(\n",
    "    tokenize = komoran_tokenizer,\n",
    "    min_sim = 0.3,\n",
    "    verbose = False\n",
    ")\n",
    "sents = [\n",
    "    '오패산터널 총격전 용의자 검거 서울 연합뉴스 경찰 관계자들이 19일 오후 서울 강북구 오패산 터널 인근에서 사제 총기를 발사해 경찰을 살해한 용의자 성모씨를 검거하고 있다 성씨는 검거 당시 서바이벌 게임에서 쓰는 방탄조끼에 헬멧까지 착용한 상태였다',\n",
    "    '서울 연합뉴스 김은경 기자 사제 총기로 경찰을 살해한 범인 성모 46 씨는 주도면밀했다',\n",
    "    '경찰에 따르면 성씨는 19일 오후 강북경찰서 인근 부동산 업소 밖에서 부동산업자 이모 67 씨가 나오기를 기다렸다 이씨와는 평소에도 말다툼을 자주 한 것으로 알려졌다',\n",
    "    '이씨가 나와 걷기 시작하자 성씨는 따라가면서 미리 준비해온 사제 총기를 이씨에게 발사했다 총알이 빗나가면서 이씨는 도망갔다 그 빗나간 총알은 지나가던 행인 71 씨의 배를 스쳤다',\n",
    "    '성씨는 강북서 인근 치킨집까지 이씨 뒤를 쫓으며 실랑이하다 쓰러뜨린 후 총기와 함께 가져온 망치로 이씨 머리를 때렸다',\n",
    "    '이 과정에서 오후 6시 20분께 강북구 번동 길 위에서 사람들이 싸우고 있다 총소리가 났다 는 등의 신고가 여러건 들어왔다',\n",
    "    '5분 후에 성씨의 전자발찌가 훼손됐다는 신고가 보호관찰소 시스템을 통해 들어왔다 성범죄자로 전자발찌를 차고 있던 성씨는 부엌칼로 직접 자신의 발찌를 끊었다',\n",
    "    '용의자 소지 사제총기 2정 서울 연합뉴스 임헌정 기자 서울 시내에서 폭행 용의자가 현장 조사를 벌이던 경찰관에게 사제총기를 발사해 경찰관이 숨졌다 19일 오후 6시28분 강북구 번동에서 둔기로 맞았다 는 폭행 피해 신고가 접수돼 현장에서 조사하던 강북경찰서 번동파출소 소속 김모 54 경위가 폭행 용의자 성모 45 씨가 쏜 사제총기에 맞고 쓰러진 뒤 병원에 옮겨졌으나 숨졌다 사진은 용의자가 소지한 사제총기',\n",
    "    '신고를 받고 번동파출소에서 김창호 54 경위 등 경찰들이 오후 6시 29분께 현장으로 출동했다 성씨는 그사이 부동산 앞에 놓아뒀던 가방을 챙겨 오패산 쪽으로 도망간 후였다',\n",
    "    '김 경위는 오패산 터널 입구 오른쪽의 급경사에서 성씨에게 접근하다가 오후 6시 33분께 풀숲에 숨은 성씨가 허공에 난사한 10여발의 총알 중 일부를 왼쪽 어깨 뒷부분에 맞고 쓰러졌다',\n",
    "    '김 경위는 구급차가 도착했을 때 이미 의식이 없었고 심폐소생술을 하며 병원으로 옮겨졌으나 총알이 폐를 훼손해 오후 7시 40분께 사망했다',\n",
    "    '김 경위는 외근용 조끼를 입고 있었으나 총알을 막기에는 역부족이었다',\n",
    "    '머리에 부상을 입은 이씨도 함께 병원으로 이송됐으나 생명에는 지장이 없는 것으로 알려졌다',\n",
    "    '성씨는 오패산 터널 밑쪽 숲에서 오후 6시 45분께 잡혔다',\n",
    "    '총격현장 수색하는 경찰들 서울 연합뉴스 이효석 기자 19일 오후 서울 강북구 오패산 터널 인근에서 경찰들이 폭행 용의자가 사제총기를 발사해 경찰관이 사망한 사건을 조사 하고 있다',\n",
    "    '총 때문에 쫓던 경관들과 민간인들이 몸을 숨겼는데 인근 신발가게 직원 이모씨가 다가가 성씨를 덮쳤고 이어 현장에 있던 다른 상인들과 경찰이 가세해 체포했다',\n",
    "    '성씨는 경찰에 붙잡힌 직후 나 자살하려고 한 거다 맞아 죽어도 괜찮다 고 말한 것으로 전해졌다',\n",
    "    '성씨 자신도 경찰이 발사한 공포탄 1발 실탄 3발 중 실탄 1발을 배에 맞았으나 방탄조끼를 입은 상태여서 부상하지는 않았다',\n",
    "    '경찰은 인근을 수색해 성씨가 만든 사제총 16정과 칼 7개를 압수했다 실제 폭발할지는 알 수 없는 요구르트병에 무언가를 채워두고 심지를 꽂은 사제 폭탄도 발견됐다',\n",
    "    '일부는 숲에서 발견됐고 일부는 성씨가 소지한 가방 안에 있었다'\n",
    "]\n",
    "\n",
    "keysents = summarizer.summarize(sents, topk=3)"
   ]
  },
  {
   "cell_type": "code",
   "execution_count": 32,
   "metadata": {},
   "outputs": [
    {
     "name": "stdout",
     "output_type": "stream",
     "text": [
      "오패산터널 총격전 용의자 검거 서울 연합뉴스 경찰 관계자들이 19일 오후 서울 강북구 오패산 터널 인근에서 사제 총기를 발사해 경찰을 살해한 용의자 성모씨를 검거하고 있다 성씨는 검거 당시 서바이벌 게임에서 쓰는 방탄조끼에 헬멧까지 착용한 상태였다\n",
      "용의자 소지 사제총기 2정 서울 연합뉴스 임헌정 기자 서울 시내에서 폭행 용의자가 현장 조사를 벌이던 경찰관에게 사제총기를 발사해 경찰관이 숨졌다 19일 오후 6시28분 강북구 번동에서 둔기로 맞았다 는 폭행 피해 신고가 접수돼 현장에서 조사하던 강북경찰서 번동파출소 소속 김모 54 경위가 폭행 용의자 성모 45 씨가 쏜 사제총기에 맞고 쓰러진 뒤 병원에 옮겨졌으나 숨졌다 사진은 용의자가 소지한 사제총기\n",
      "신고를 받고 번동파출소에서 김창호 54 경위 등 경찰들이 오후 6시 29분께 현장으로 출동했다 성씨는 그사이 부동산 앞에 놓아뒀던 가방을 챙겨 오패산 쪽으로 도망간 후였다\n"
     ]
    }
   ],
   "source": [
    "for sent_idx, rank, sent in keysents:\n",
    "    print(sent)"
   ]
  },
  {
   "cell_type": "code",
   "execution_count": 33,
   "metadata": {},
   "outputs": [
    {
     "data": {
      "text/plain": [
       "[(0,\n",
       "  1.7010195551998453,\n",
       "  '오패산터널 총격전 용의자 검거 서울 연합뉴스 경찰 관계자들이 19일 오후 서울 강북구 오패산 터널 인근에서 사제 총기를 발사해 경찰을 살해한 용의자 성모씨를 검거하고 있다 성씨는 검거 당시 서바이벌 게임에서 쓰는 방탄조끼에 헬멧까지 착용한 상태였다'),\n",
       " (7,\n",
       "  1.4886043194936454,\n",
       "  '용의자 소지 사제총기 2정 서울 연합뉴스 임헌정 기자 서울 시내에서 폭행 용의자가 현장 조사를 벌이던 경찰관에게 사제총기를 발사해 경찰관이 숨졌다 19일 오후 6시28분 강북구 번동에서 둔기로 맞았다 는 폭행 피해 신고가 접수돼 현장에서 조사하던 강북경찰서 번동파출소 소속 김모 54 경위가 폭행 용의자 성모 45 씨가 쏜 사제총기에 맞고 쓰러진 뒤 병원에 옮겨졌으나 숨졌다 사진은 용의자가 소지한 사제총기'),\n",
       " (8,\n",
       "  1.4278590385659577,\n",
       "  '신고를 받고 번동파출소에서 김창호 54 경위 등 경찰들이 오후 6시 29분께 현장으로 출동했다 성씨는 그사이 부동산 앞에 놓아뒀던 가방을 챙겨 오패산 쪽으로 도망간 후였다')]"
      ]
     },
     "execution_count": 33,
     "metadata": {},
     "output_type": "execute_result"
    }
   ],
   "source": [
    "keysents"
   ]
  },
  {
   "cell_type": "code",
   "execution_count": 34,
   "metadata": {},
   "outputs": [
    {
     "data": {
      "text/plain": [
       "[('용의자/NNP', 3.040833543583403),\n",
       " ('사제총/NNP', 2.505798518168069),\n",
       " ('성씨/NNP', 2.4254730689696298),\n",
       " ('서울/NNP', 2.399522533743009),\n",
       " ('경찰/NNG', 2.2541631612221043),\n",
       " ('오후/NNG', 2.154778397410354),\n",
       " ('폭행/NNG', 1.9019818685234693),\n",
       " ('씨/NNB', 1.7517679455874249),\n",
       " ('발사/NNG', 1.658959293729613),\n",
       " ('맞/VV', 1.618499063577056),\n",
       " ('분/NNB', 1.6164369966921637),\n",
       " ('번동/NNP', 1.4681655196749035),\n",
       " ('현장/NNG', 1.4530182347939307),\n",
       " ('시/NNB', 1.408892735491178),\n",
       " ('경찰관/NNP', 1.4012941012332316),\n",
       " ('조사/NNG', 1.4012941012332316),\n",
       " ('일/NNB', 1.3922748983755766),\n",
       " ('강북구/NNP', 1.332317291003927),\n",
       " ('연합뉴스/NNP', 1.3259099432277819),\n",
       " ('이씨/NNP', 1.2869280494707418)]"
      ]
     },
     "execution_count": 34,
     "metadata": {},
     "output_type": "execute_result"
    }
   ],
   "source": [
    "# 중요 키워드 추출\n",
    "from textrank import KeywordSummarizer\n",
    "\n",
    "summarizer = KeywordSummarizer(tokenize=komoran_tokenizer, min_count=2, min_cooccurrence=1)\n",
    "summarizer.summarize(sents, topk=20)"
   ]
  },
  {
   "cell_type": "code",
   "execution_count": 35,
   "metadata": {},
   "outputs": [
    {
     "name": "stdout",
     "output_type": "stream",
     "text": [
      "ha당 조사료 400만원작물별 차등 지원 이성훈 전라남도가 과잉문제를 근본적으로 해결하기 위해 올해부터 시행하는 생산조정제를 적극 추진키로 했다\n",
      " 지원사업 대상은 2017년산 변동직불금을 받은 농지에 10a300평 이외 작물을 재배한 농업인이다\n",
      "”며“쌀 공급과잉을 구조적으로 해결하도록 타작물 재배 지원사업에 많이 참여해주길 바란다\n"
     ]
    }
   ],
   "source": [
    "sents = train_df['text'][0]\n",
    "n_sents = sents.replace('다','다.').split('.')\n",
    "summarizer = KeysentenceSummarizer(\n",
    "    tokenize = komoran_tokenizer,\n",
    "    min_sim = 0.3,\n",
    "    verbose = False\n",
    ")\n",
    "keysents1 = summarizer.summarize(n_sents, topk=3)\n",
    "for sent_idx, rank, sent in keysents1:\n",
    "    print(sent)"
   ]
  },
  {
   "attachments": {
    "image.png": {
     "image/png": "[encoded data removed]"
    }
   },
   "cell_type": "markdown",
   "metadata": {},
   "source": [
    "# 2. 추상적 요약\n",
    "### 시퀀스-투-시퀀스 모델(seq2seq)\n",
    "- 입력된 시퀀스로부터 다른 도메인의 시퀀스를 출력하는 모델\n",
    "- ex).. 챗봇(입,출력을 질문과 대답), 기계번역(입출력을 문장과 번역문장), 요약, STT등\n",
    "![image.png](attachment:image.png)\n",
    "- context벡터는 보통 수백차원 이상\n",
    "- 두개의 RNN아키텍쳐(인코더,디코더) 실제로는 성능문제로 LSTM, GRU셀들로 구성\n",
    "- 단어의 토큰화를 통해 단어단위로 인코더에서 쪼개지고 인코더 RNN셀은 마지막 시점의 은닉상태를 디코더 RNN셀로 넘겨줌(컨텍스트 벡터) -> 디코더RNN셀의 첫번째 은닉상태로 사용"
   ]
  },
  {
   "attachments": {
    "image.png": {
     "image/png": "[encoded data removed]"
    }
   },
   "cell_type": "markdown",
   "metadata": {},
   "source": [
    "![image.png](attachment:image.png)"
   ]
  },
  {
   "attachments": {
    "image.png": {
     "image/png": "[encoded data removed]"
    }
   },
   "cell_type": "markdown",
   "metadata": {},
   "source": [
    "### 형태소분석을 위해 모델(한국어 언어모델)\n",
    " https://littlefoxdiary.tistory.com/81\n",
    "\n",
    "- KoBART-summarization 사용\n",
    "    - https://github.com/SKT-AI/KoBART\n",
    "    - 논문에서 사용된 Text Infilling 노이즈 함수를 사용하여 40GB 이상의 한국어 텍스트에 대해서 학습한 한국어 encoder-decoder 언어 모델(한국어 위키 백과 이외, 뉴스, 책, 모두의 말뭉치 v1.0(대화, 뉴스, ...), 청와대 국민청원 등)\n",
    "![image.png](attachment:image.png)"
   ]
  },
  {
   "cell_type": "code",
   "execution_count": 36,
   "metadata": {},
   "outputs": [
    {
     "name": "stderr",
     "output_type": "stream",
     "text": [
      "fatal: destination path 'KoBART-summarization' already exists and is not an empty directory.\n"
     ]
    }
   ],
   "source": [
    "!git clone https://github.com/seujung/KoBART-summarization.git"
   ]
  },
  {
   "cell_type": "code",
   "execution_count": 37,
   "metadata": {
    "scrolled": false
   },
   "outputs": [
    {
     "name": "stdout",
     "output_type": "stream",
     "text": [
      "Requirement already satisfied: kobart-transformers in c:\\users\\yong\\anaconda3\\lib\\site-packages (0.1.4)\n",
      "Note: you may need to restart the kernel to use updated packages.\n"
     ]
    },
    {
     "name": "stderr",
     "output_type": "stream",
     "text": [
      "WARNING: Ignoring invalid distribution -atplotlib (c:\\users\\yong\\anaconda3\\lib\\site-packages)\n",
      "WARNING: Ignoring invalid distribution -atplotlib (c:\\users\\yong\\anaconda3\\lib\\site-packages)\n",
      "WARNING: Ignoring invalid distribution -atplotlib (c:\\users\\yong\\anaconda3\\lib\\site-packages)\n",
      "WARNING: Ignoring invalid distribution -atplotlib (c:\\users\\yong\\anaconda3\\lib\\site-packages)\n",
      "WARNING: Ignoring invalid distribution -atplotlib (c:\\users\\yong\\anaconda3\\lib\\site-packages)\n"
     ]
    }
   ],
   "source": [
    "pip install kobart-transformers"
   ]
  },
  {
   "cell_type": "code",
   "execution_count": 38,
   "metadata": {},
   "outputs": [
    {
     "name": "stdout",
     "output_type": "stream",
     "text": [
      "C:\\Users\\Yong\\코드스테이츠 AI\\Section Project\\Project1\\KoBART-summarization\n"
     ]
    }
   ],
   "source": [
    "cd KoBART-summarization"
   ]
  },
  {
   "cell_type": "code",
   "execution_count": 39,
   "metadata": {},
   "outputs": [
    {
     "name": "stdout",
     "output_type": "stream",
     "text": [
      "Collecting kobart\n",
      "  Cloning https://github.com/SKT-AI/KoBART to c:\\users\\yong\\appdata\\local\\temp\\pip-install-9jqy43h_\\kobart_43a001c4502049d09f983c375ef71e00\n",
      "  Resolved https://github.com/SKT-AI/KoBART to commit 51e7319ab0e305df377110e08f06f6bf5fc60d48\n",
      "  Preparing metadata (setup.py): started\n",
      "  Preparing metadata (setup.py): finished with status 'done'\n",
      "Requirement already satisfied: pandas in c:\\users\\yong\\anaconda3\\lib\\site-packages (from kobart) (1.3.1)\n",
      "Collecting pytorch-lightning==1.2.1\n",
      "  Using cached pytorch_lightning-1.2.1-py3-none-any.whl (814 kB)\n",
      "Collecting torch==1.7.1\n",
      "  Using cached torch-1.7.1-cp37-cp37m-win_amd64.whl (184.1 MB)\n",
      "Collecting transformers==4.3.3\n",
      "  Using cached transformers-4.3.3-py3-none-any.whl (1.9 MB)\n",
      "Requirement already satisfied: wget in c:\\users\\yong\\anaconda3\\lib\\site-packages (from kobart) (3.2)\n",
      "Requirement already satisfied: numpy>=1.16.6 in c:\\users\\yong\\anaconda3\\lib\\site-packages (from pytorch-lightning==1.2.1->kobart) (1.18.1)\n",
      "Requirement already satisfied: tensorboard>=2.2.0 in c:\\users\\yong\\anaconda3\\lib\\site-packages (from pytorch-lightning==1.2.1->kobart) (2.3.0)\n",
      "Requirement already satisfied: fsspec[http]>=0.8.1 in c:\\users\\yong\\anaconda3\\lib\\site-packages (from pytorch-lightning==1.2.1->kobart) (2021.11.1)\n",
      "Requirement already satisfied: tqdm>=4.41.0 in c:\\users\\yong\\anaconda3\\lib\\site-packages (from pytorch-lightning==1.2.1->kobart) (4.50.1)\n",
      "Requirement already satisfied: future>=0.17.1 in c:\\users\\yong\\anaconda3\\lib\\site-packages (from pytorch-lightning==1.2.1->kobart) (0.18.2)\n",
      "Requirement already satisfied: PyYAML!=5.4.*,>=5.1 in c:\\users\\yong\\anaconda3\\lib\\site-packages (from pytorch-lightning==1.2.1->kobart) (5.3)\n",
      "Requirement already satisfied: typing-extensions in c:\\users\\yong\\anaconda3\\lib\\site-packages (from torch==1.7.1->kobart) (3.10.0.2)\n",
      "Requirement already satisfied: regex!=2019.12.17 in c:\\users\\yong\\anaconda3\\lib\\site-packages (from transformers==4.3.3->kobart) (2021.11.10)\n",
      "Requirement already satisfied: packaging in c:\\users\\yong\\anaconda3\\lib\\site-packages (from transformers==4.3.3->kobart) (21.0)\n",
      "Requirement already satisfied: filelock in c:\\users\\yong\\anaconda3\\lib\\site-packages (from transformers==4.3.3->kobart) (3.0.12)\n",
      "Requirement already satisfied: importlib-metadata in c:\\users\\yong\\anaconda3\\lib\\site-packages (from transformers==4.3.3->kobart) (1.5.0)\n",
      "Requirement already satisfied: tokenizers<0.11,>=0.10.1 in c:\\users\\yong\\anaconda3\\lib\\site-packages (from transformers==4.3.3->kobart) (0.10.3)\n",
      "Requirement already satisfied: requests in c:\\users\\yong\\anaconda3\\lib\\site-packages (from transformers==4.3.3->kobart) (2.26.0)\n",
      "Requirement already satisfied: sacremoses in c:\\users\\yong\\anaconda3\\lib\\site-packages (from transformers==4.3.3->kobart) (0.0.46)\n",
      "Requirement already satisfied: pytz>=2017.3 in c:\\users\\yong\\anaconda3\\lib\\site-packages (from pandas->kobart) (2019.3)\n",
      "Requirement already satisfied: python-dateutil>=2.7.3 in c:\\users\\yong\\anaconda3\\lib\\site-packages (from pandas->kobart) (2.8.1)\n",
      "Requirement already satisfied: aiohttp in c:\\users\\yong\\anaconda3\\lib\\site-packages (from fsspec[http]>=0.8.1->pytorch-lightning==1.2.1->kobart) (3.8.1)\n",
      "Requirement already satisfied: six>=1.5 in c:\\users\\yong\\anaconda3\\lib\\site-packages (from python-dateutil>=2.7.3->pandas->kobart) (1.15.0)\n",
      "Requirement already satisfied: wheel>=0.26 in c:\\users\\yong\\anaconda3\\lib\\site-packages (from tensorboard>=2.2.0->pytorch-lightning==1.2.1->kobart) (0.34.2)\n",
      "Requirement already satisfied: google-auth-oauthlib<0.5,>=0.4.1 in c:\\users\\yong\\anaconda3\\lib\\site-packages (from tensorboard>=2.2.0->pytorch-lightning==1.2.1->kobart) (0.4.1)\n",
      "Requirement already satisfied: grpcio>=1.24.3 in c:\\users\\yong\\anaconda3\\lib\\site-packages (from tensorboard>=2.2.0->pytorch-lightning==1.2.1->kobart) (1.31.0)\n",
      "Requirement already satisfied: markdown>=2.6.8 in c:\\users\\yong\\anaconda3\\lib\\site-packages (from tensorboard>=2.2.0->pytorch-lightning==1.2.1->kobart) (3.2.2)\n",
      "Requirement already satisfied: setuptools>=41.0.0 in c:\\users\\yong\\anaconda3\\lib\\site-packages (from tensorboard>=2.2.0->pytorch-lightning==1.2.1->kobart) (45.2.0.post20200209)\n",
      "Requirement already satisfied: protobuf>=3.6.0 in c:\\users\\yong\\anaconda3\\lib\\site-packages (from tensorboard>=2.2.0->pytorch-lightning==1.2.1->kobart) (3.13.0)\n",
      "Requirement already satisfied: google-auth<2,>=1.6.3 in c:\\users\\yong\\anaconda3\\lib\\site-packages (from tensorboard>=2.2.0->pytorch-lightning==1.2.1->kobart) (1.21.1)\n",
      "Requirement already satisfied: werkzeug>=0.11.15 in c:\\users\\yong\\anaconda3\\lib\\site-packages (from tensorboard>=2.2.0->pytorch-lightning==1.2.1->kobart) (1.0.0)\n",
      "Requirement already satisfied: absl-py>=0.4 in c:\\users\\yong\\anaconda3\\lib\\site-packages (from tensorboard>=2.2.0->pytorch-lightning==1.2.1->kobart) (0.10.0)\n",
      "Requirement already satisfied: tensorboard-plugin-wit>=1.6.0 in c:\\users\\yong\\anaconda3\\lib\\site-packages (from tensorboard>=2.2.0->pytorch-lightning==1.2.1->kobart) (1.7.0)\n",
      "Requirement already satisfied: idna<4,>=2.5 in c:\\users\\yong\\anaconda3\\lib\\site-packages (from requests->transformers==4.3.3->kobart) (3.2)\n",
      "Requirement already satisfied: certifi>=2017.4.17 in c:\\users\\yong\\anaconda3\\lib\\site-packages (from requests->transformers==4.3.3->kobart) (2021.5.30)\n",
      "Requirement already satisfied: charset-normalizer~=2.0.0 in c:\\users\\yong\\anaconda3\\lib\\site-packages (from requests->transformers==4.3.3->kobart) (2.0.4)\n",
      "Requirement already satisfied: urllib3<1.27,>=1.21.1 in c:\\users\\yong\\anaconda3\\lib\\site-packages (from requests->transformers==4.3.3->kobart) (1.26.3)\n",
      "Requirement already satisfied: zipp>=0.5 in c:\\users\\yong\\anaconda3\\lib\\site-packages (from importlib-metadata->transformers==4.3.3->kobart) (2.2.0)\n",
      "Requirement already satisfied: pyparsing>=2.0.2 in c:\\users\\yong\\anaconda3\\lib\\site-packages (from packaging->transformers==4.3.3->kobart) (2.4.7)\n",
      "Requirement already satisfied: joblib in c:\\users\\yong\\anaconda3\\lib\\site-packages (from sacremoses->transformers==4.3.3->kobart) (0.14.1)\n",
      "Requirement already satisfied: click in c:\\users\\yong\\anaconda3\\lib\\site-packages (from sacremoses->transformers==4.3.3->kobart) (7.1.2)\n",
      "Requirement already satisfied: rsa<5,>=3.1.4 in c:\\users\\yong\\anaconda3\\lib\\site-packages (from google-auth<2,>=1.6.3->tensorboard>=2.2.0->pytorch-lightning==1.2.1->kobart) (4.7.2)\n",
      "Requirement already satisfied: cachetools<5.0,>=2.0.0 in c:\\users\\yong\\anaconda3\\lib\\site-packages (from google-auth<2,>=1.6.3->tensorboard>=2.2.0->pytorch-lightning==1.2.1->kobart) (4.2.4)\n",
      "Requirement already satisfied: pyasn1-modules>=0.2.1 in c:\\users\\yong\\anaconda3\\lib\\site-packages (from google-auth<2,>=1.6.3->tensorboard>=2.2.0->pytorch-lightning==1.2.1->kobart) (0.2.8)\n",
      "Requirement already satisfied: requests-oauthlib>=0.7.0 in c:\\users\\yong\\anaconda3\\lib\\site-packages (from google-auth-oauthlib<0.5,>=0.4.1->tensorboard>=2.2.0->pytorch-lightning==1.2.1->kobart) (1.3.0)\n",
      "Requirement already satisfied: multidict<7.0,>=4.5 in c:\\users\\yong\\anaconda3\\lib\\site-packages (from aiohttp->fsspec[http]>=0.8.1->pytorch-lightning==1.2.1->kobart) (5.2.0)\n",
      "Requirement already satisfied: aiosignal>=1.1.2 in c:\\users\\yong\\anaconda3\\lib\\site-packages (from aiohttp->fsspec[http]>=0.8.1->pytorch-lightning==1.2.1->kobart) (1.2.0)\n",
      "Requirement already satisfied: yarl<2.0,>=1.0 in c:\\users\\yong\\anaconda3\\lib\\site-packages (from aiohttp->fsspec[http]>=0.8.1->pytorch-lightning==1.2.1->kobart) (1.7.2)\n",
      "Requirement already satisfied: asynctest==0.13.0 in c:\\users\\yong\\anaconda3\\lib\\site-packages (from aiohttp->fsspec[http]>=0.8.1->pytorch-lightning==1.2.1->kobart) (0.13.0)\n",
      "Requirement already satisfied: frozenlist>=1.1.1 in c:\\users\\yong\\anaconda3\\lib\\site-packages (from aiohttp->fsspec[http]>=0.8.1->pytorch-lightning==1.2.1->kobart) (1.2.0)\n",
      "Requirement already satisfied: attrs>=17.3.0 in c:\\users\\yong\\anaconda3\\lib\\site-packages (from aiohttp->fsspec[http]>=0.8.1->pytorch-lightning==1.2.1->kobart) (21.2.0)\n",
      "Requirement already satisfied: async-timeout<5.0,>=4.0.0a3 in c:\\users\\yong\\anaconda3\\lib\\site-packages (from aiohttp->fsspec[http]>=0.8.1->pytorch-lightning==1.2.1->kobart) (4.0.1)\n",
      "Requirement already satisfied: pyasn1<0.5.0,>=0.4.6 in c:\\users\\yong\\anaconda3\\lib\\site-packages (from pyasn1-modules>=0.2.1->google-auth<2,>=1.6.3->tensorboard>=2.2.0->pytorch-lightning==1.2.1->kobart) (0.4.8)\n",
      "Requirement already satisfied: oauthlib>=3.0.0 in c:\\users\\yong\\anaconda3\\lib\\site-packages (from requests-oauthlib>=0.7.0->google-auth-oauthlib<0.5,>=0.4.1->tensorboard>=2.2.0->pytorch-lightning==1.2.1->kobart) (3.1.0)\n",
      "Installing collected packages: torch, transformers, pytorch-lightning\n",
      "  Attempting uninstall: torch\n",
      "    Found existing installation: torch 1.10.0\n",
      "    Uninstalling torch-1.10.0:\n",
      "      Successfully uninstalled torch-1.10.0\n",
      "Note: you may need to restart the kernel to use updated packages.\n"
     ]
    },
    {
     "name": "stderr",
     "output_type": "stream",
     "text": [
      "WARNING: Ignoring invalid distribution -atplotlib (c:\\users\\yong\\anaconda3\\lib\\site-packages)\n",
      "WARNING: Ignoring invalid distribution -atplotlib (c:\\users\\yong\\anaconda3\\lib\\site-packages)\n",
      "  Running command git clone --filter=blob:none -q https://github.com/SKT-AI/KoBART 'C:\\Users\\Yong\\AppData\\Local\\Temp\\pip-install-9jqy43h_\\kobart_43a001c4502049d09f983c375ef71e00'\n",
      "WARNING: Ignoring invalid distribution -atplotlib (c:\\users\\yong\\anaconda3\\lib\\site-packages)\n",
      "    WARNING: Ignoring invalid distribution -atplotlib (c:\\users\\yong\\anaconda3\\lib\\site-packages)\n",
      "ERROR: Could not install packages due to an OSError: [WinError 5] 액세스가 거부되었습니다: 'c:\\\\users\\\\yong\\\\anaconda3\\\\lib\\\\site-packages\\\\~7rch\\\\lib\\\\asmjit.dll'\n",
      "Consider using the `--user` option or check the permissions.\n",
      "\n",
      "WARNING: Ignoring invalid distribution -atplotlib (c:\\users\\yong\\anaconda3\\lib\\site-packages)\n",
      "WARNING: Ignoring invalid distribution -atplotlib (c:\\users\\yong\\anaconda3\\lib\\site-packages)\n"
     ]
    }
   ],
   "source": [
    "pip install git+https://github.com/SKT-AI/KoBART#egg=kobart"
   ]
  },
  {
   "cell_type": "code",
   "execution_count": 40,
   "metadata": {},
   "outputs": [
    {
     "name": "stdout",
     "output_type": "stream",
     "text": [
      "Requirement already satisfied: pandas in c:\\users\\yong\\anaconda3\\lib\\site-packages (from -r requirements.txt (line 1)) (1.3.1)\n",
      "Requirement already satisfied: torch==1.7.1 in c:\\users\\yong\\anaconda3\\lib\\site-packages (from -r requirements.txt (line 2)) (1.7.1)\n",
      "Collecting transformers==4.3.3\n",
      "  Using cached transformers-4.3.3-py3-none-any.whl (1.9 MB)\n",
      "Collecting pytorch-lightning==1.2.1\n",
      "  Using cached pytorch_lightning-1.2.1-py3-none-any.whl (814 kB)\n",
      "Collecting streamlit==0.72.0\n",
      "  Downloading streamlit-0.72.0-py2.py3-none-any.whl (7.4 MB)\n",
      "Requirement already satisfied: typing-extensions in c:\\users\\yong\\anaconda3\\lib\\site-packages (from torch==1.7.1->-r requirements.txt (line 2)) (3.10.0.2)\n",
      "Requirement already satisfied: numpy in c:\\users\\yong\\anaconda3\\lib\\site-packages (from torch==1.7.1->-r requirements.txt (line 2)) (1.18.1)\n",
      "Requirement already satisfied: tokenizers<0.11,>=0.10.1 in c:\\users\\yong\\anaconda3\\lib\\site-packages (from transformers==4.3.3->-r requirements.txt (line 3)) (0.10.3)\n",
      "Requirement already satisfied: tqdm>=4.27 in c:\\users\\yong\\anaconda3\\lib\\site-packages (from transformers==4.3.3->-r requirements.txt (line 3)) (4.50.1)\n",
      "Requirement already satisfied: filelock in c:\\users\\yong\\anaconda3\\lib\\site-packages (from transformers==4.3.3->-r requirements.txt (line 3)) (3.0.12)\n",
      "Requirement already satisfied: packaging in c:\\users\\yong\\anaconda3\\lib\\site-packages (from transformers==4.3.3->-r requirements.txt (line 3)) (21.0)\n",
      "Requirement already satisfied: importlib-metadata in c:\\users\\yong\\anaconda3\\lib\\site-packages (from transformers==4.3.3->-r requirements.txt (line 3)) (1.5.0)\n",
      "Requirement already satisfied: regex!=2019.12.17 in c:\\users\\yong\\anaconda3\\lib\\site-packages (from transformers==4.3.3->-r requirements.txt (line 3)) (2021.11.10)\n",
      "Requirement already satisfied: requests in c:\\users\\yong\\anaconda3\\lib\\site-packages (from transformers==4.3.3->-r requirements.txt (line 3)) (2.26.0)\n",
      "Requirement already satisfied: sacremoses in c:\\users\\yong\\anaconda3\\lib\\site-packages (from transformers==4.3.3->-r requirements.txt (line 3)) (0.0.46)\n",
      "Requirement already satisfied: fsspec[http]>=0.8.1 in c:\\users\\yong\\anaconda3\\lib\\site-packages (from pytorch-lightning==1.2.1->-r requirements.txt (line 4)) (2021.11.1)\n",
      "Requirement already satisfied: PyYAML!=5.4.*,>=5.1 in c:\\users\\yong\\anaconda3\\lib\\site-packages (from pytorch-lightning==1.2.1->-r requirements.txt (line 4)) (5.3)\n",
      "Requirement already satisfied: tensorboard>=2.2.0 in c:\\users\\yong\\anaconda3\\lib\\site-packages (from pytorch-lightning==1.2.1->-r requirements.txt (line 4)) (2.3.0)\n",
      "Requirement already satisfied: future>=0.17.1 in c:\\users\\yong\\anaconda3\\lib\\site-packages (from pytorch-lightning==1.2.1->-r requirements.txt (line 4)) (0.18.2)\n",
      "Requirement already satisfied: validators in c:\\users\\yong\\anaconda3\\lib\\site-packages (from streamlit==0.72.0->-r requirements.txt (line 5)) (0.18.2)\n",
      "Requirement already satisfied: astor in c:\\users\\yong\\anaconda3\\lib\\site-packages (from streamlit==0.72.0->-r requirements.txt (line 5)) (0.8.1)\n",
      "Requirement already satisfied: pillow>=6.2.0 in c:\\users\\yong\\anaconda3\\lib\\site-packages (from streamlit==0.72.0->-r requirements.txt (line 5)) (7.0.0)\n",
      "Requirement already satisfied: toml in c:\\users\\yong\\anaconda3\\lib\\site-packages (from streamlit==0.72.0->-r requirements.txt (line 5)) (0.10.2)\n",
      "Requirement already satisfied: tornado>=5.0 in c:\\users\\yong\\anaconda3\\lib\\site-packages (from streamlit==0.72.0->-r requirements.txt (line 5)) (6.1)\n",
      "Requirement already satisfied: pyarrow in c:\\users\\yong\\anaconda3\\lib\\site-packages (from streamlit==0.72.0->-r requirements.txt (line 5)) (6.0.1)\n",
      "Requirement already satisfied: click>=7.0 in c:\\users\\yong\\anaconda3\\lib\\site-packages (from streamlit==0.72.0->-r requirements.txt (line 5)) (7.1.2)\n",
      "Requirement already satisfied: altair>=3.2.0 in c:\\users\\yong\\anaconda3\\lib\\site-packages (from streamlit==0.72.0->-r requirements.txt (line 5)) (4.1.0)\n",
      "Requirement already satisfied: blinker in c:\\users\\yong\\anaconda3\\lib\\site-packages (from streamlit==0.72.0->-r requirements.txt (line 5)) (1.4)\n",
      "Requirement already satisfied: base58 in c:\\users\\yong\\anaconda3\\lib\\site-packages (from streamlit==0.72.0->-r requirements.txt (line 5)) (2.1.1)\n",
      "Requirement already satisfied: protobuf!=3.11,>=3.6.0 in c:\\users\\yong\\anaconda3\\lib\\site-packages (from streamlit==0.72.0->-r requirements.txt (line 5)) (3.13.0)\n",
      "Requirement already satisfied: watchdog in c:\\users\\yong\\anaconda3\\lib\\site-packages (from streamlit==0.72.0->-r requirements.txt (line 5)) (0.10.2)\n",
      "Requirement already satisfied: gitpython in c:\\users\\yong\\anaconda3\\lib\\site-packages (from streamlit==0.72.0->-r requirements.txt (line 5)) (3.1.24)\n",
      "Requirement already satisfied: tzlocal in c:\\users\\yong\\anaconda3\\lib\\site-packages (from streamlit==0.72.0->-r requirements.txt (line 5)) (4.1)\n",
      "Requirement already satisfied: pydeck>=0.1.dev5 in c:\\users\\yong\\anaconda3\\lib\\site-packages (from streamlit==0.72.0->-r requirements.txt (line 5)) (0.7.1)\n",
      "Requirement already satisfied: cachetools>=4.0 in c:\\users\\yong\\anaconda3\\lib\\site-packages (from streamlit==0.72.0->-r requirements.txt (line 5)) (4.2.4)\n",
      "Requirement already satisfied: python-dateutil in c:\\users\\yong\\anaconda3\\lib\\site-packages (from streamlit==0.72.0->-r requirements.txt (line 5)) (2.8.1)\n",
      "Requirement already satisfied: pytz>=2017.3 in c:\\users\\yong\\anaconda3\\lib\\site-packages (from pandas->-r requirements.txt (line 1)) (2019.3)\n",
      "Requirement already satisfied: jsonschema in c:\\users\\yong\\anaconda3\\lib\\site-packages (from altair>=3.2.0->streamlit==0.72.0->-r requirements.txt (line 5)) (3.2.0)\n",
      "Requirement already satisfied: toolz in c:\\users\\yong\\anaconda3\\lib\\site-packages (from altair>=3.2.0->streamlit==0.72.0->-r requirements.txt (line 5)) (0.10.0)\n",
      "Requirement already satisfied: entrypoints in c:\\users\\yong\\anaconda3\\lib\\site-packages (from altair>=3.2.0->streamlit==0.72.0->-r requirements.txt (line 5)) (0.3)\n",
      "Requirement already satisfied: jinja2 in c:\\users\\yong\\anaconda3\\lib\\site-packages (from altair>=3.2.0->streamlit==0.72.0->-r requirements.txt (line 5)) (2.11.1)\n",
      "Requirement already satisfied: aiohttp in c:\\users\\yong\\anaconda3\\lib\\site-packages (from fsspec[http]>=0.8.1->pytorch-lightning==1.2.1->-r requirements.txt (line 4)) (3.8.1)\n",
      "Requirement already satisfied: six>=1.9 in c:\\users\\yong\\anaconda3\\lib\\site-packages (from protobuf!=3.11,>=3.6.0->streamlit==0.72.0->-r requirements.txt (line 5)) (1.15.0)\n",
      "Requirement already satisfied: setuptools in c:\\users\\yong\\anaconda3\\lib\\site-packages (from protobuf!=3.11,>=3.6.0->streamlit==0.72.0->-r requirements.txt (line 5)) (45.2.0.post20200209)\n",
      "Requirement already satisfied: ipykernel>=5.1.2 in c:\\users\\yong\\anaconda3\\lib\\site-packages (from pydeck>=0.1.dev5->streamlit==0.72.0->-r requirements.txt (line 5)) (5.1.4)\n",
      "Requirement already satisfied: traitlets>=4.3.2 in c:\\users\\yong\\anaconda3\\lib\\site-packages (from pydeck>=0.1.dev5->streamlit==0.72.0->-r requirements.txt (line 5)) (4.3.3)\n",
      "Requirement already satisfied: ipywidgets>=7.0.0 in c:\\users\\yong\\anaconda3\\lib\\site-packages (from pydeck>=0.1.dev5->streamlit==0.72.0->-r requirements.txt (line 5)) (7.5.1)\n",
      "Requirement already satisfied: google-auth-oauthlib<0.5,>=0.4.1 in c:\\users\\yong\\anaconda3\\lib\\site-packages (from tensorboard>=2.2.0->pytorch-lightning==1.2.1->-r requirements.txt (line 4)) (0.4.1)\n",
      "Requirement already satisfied: werkzeug>=0.11.15 in c:\\users\\yong\\anaconda3\\lib\\site-packages (from tensorboard>=2.2.0->pytorch-lightning==1.2.1->-r requirements.txt (line 4)) (1.0.0)\n",
      "Requirement already satisfied: markdown>=2.6.8 in c:\\users\\yong\\anaconda3\\lib\\site-packages (from tensorboard>=2.2.0->pytorch-lightning==1.2.1->-r requirements.txt (line 4)) (3.2.2)\n",
      "Requirement already satisfied: absl-py>=0.4 in c:\\users\\yong\\anaconda3\\lib\\site-packages (from tensorboard>=2.2.0->pytorch-lightning==1.2.1->-r requirements.txt (line 4)) (0.10.0)\n",
      "Requirement already satisfied: google-auth<2,>=1.6.3 in c:\\users\\yong\\anaconda3\\lib\\site-packages (from tensorboard>=2.2.0->pytorch-lightning==1.2.1->-r requirements.txt (line 4)) (1.21.1)\n",
      "Requirement already satisfied: grpcio>=1.24.3 in c:\\users\\yong\\anaconda3\\lib\\site-packages (from tensorboard>=2.2.0->pytorch-lightning==1.2.1->-r requirements.txt (line 4)) (1.31.0)\n",
      "Requirement already satisfied: tensorboard-plugin-wit>=1.6.0 in c:\\users\\yong\\anaconda3\\lib\\site-packages (from tensorboard>=2.2.0->pytorch-lightning==1.2.1->-r requirements.txt (line 4)) (1.7.0)\n",
      "Requirement already satisfied: wheel>=0.26 in c:\\users\\yong\\anaconda3\\lib\\site-packages (from tensorboard>=2.2.0->pytorch-lightning==1.2.1->-r requirements.txt (line 4)) (0.34.2)\n",
      "Requirement already satisfied: charset-normalizer~=2.0.0 in c:\\users\\yong\\anaconda3\\lib\\site-packages (from requests->transformers==4.3.3->-r requirements.txt (line 3)) (2.0.4)\n",
      "Requirement already satisfied: urllib3<1.27,>=1.21.1 in c:\\users\\yong\\anaconda3\\lib\\site-packages (from requests->transformers==4.3.3->-r requirements.txt (line 3)) (1.26.3)\n",
      "Requirement already satisfied: certifi>=2017.4.17 in c:\\users\\yong\\anaconda3\\lib\\site-packages (from requests->transformers==4.3.3->-r requirements.txt (line 3)) (2021.5.30)\n",
      "Requirement already satisfied: idna<4,>=2.5 in c:\\users\\yong\\anaconda3\\lib\\site-packages (from requests->transformers==4.3.3->-r requirements.txt (line 3)) (3.2)\n",
      "Requirement already satisfied: gitdb<5,>=4.0.1 in c:\\users\\yong\\anaconda3\\lib\\site-packages (from gitpython->streamlit==0.72.0->-r requirements.txt (line 5)) (4.0.9)\n",
      "Requirement already satisfied: zipp>=0.5 in c:\\users\\yong\\anaconda3\\lib\\site-packages (from importlib-metadata->transformers==4.3.3->-r requirements.txt (line 3)) (2.2.0)\n",
      "Requirement already satisfied: pyparsing>=2.0.2 in c:\\users\\yong\\anaconda3\\lib\\site-packages (from packaging->transformers==4.3.3->-r requirements.txt (line 3)) (2.4.7)\n",
      "Requirement already satisfied: joblib in c:\\users\\yong\\anaconda3\\lib\\site-packages (from sacremoses->transformers==4.3.3->-r requirements.txt (line 3)) (0.14.1)\n",
      "Requirement already satisfied: tzdata in c:\\users\\yong\\anaconda3\\lib\\site-packages (from tzlocal->streamlit==0.72.0->-r requirements.txt (line 5)) (2021.5)\n",
      "Requirement already satisfied: backports.zoneinfo in c:\\users\\yong\\anaconda3\\lib\\site-packages (from tzlocal->streamlit==0.72.0->-r requirements.txt (line 5)) (0.2.1)\n",
      "Requirement already satisfied: pytz-deprecation-shim in c:\\users\\yong\\anaconda3\\lib\\site-packages (from tzlocal->streamlit==0.72.0->-r requirements.txt (line 5)) (0.1.0.post0)\n",
      "Requirement already satisfied: decorator>=3.4.0 in c:\\users\\yong\\anaconda3\\lib\\site-packages (from validators->streamlit==0.72.0->-r requirements.txt (line 5)) (4.4.1)\n",
      "Requirement already satisfied: pathtools>=0.1.1 in c:\\users\\yong\\anaconda3\\lib\\site-packages (from watchdog->streamlit==0.72.0->-r requirements.txt (line 5)) (0.1.2)\n",
      "Requirement already satisfied: smmap<6,>=3.0.1 in c:\\users\\yong\\anaconda3\\lib\\site-packages (from gitdb<5,>=4.0.1->gitpython->streamlit==0.72.0->-r requirements.txt (line 5)) (5.0.0)\n",
      "Requirement already satisfied: rsa<5,>=3.1.4 in c:\\users\\yong\\anaconda3\\lib\\site-packages (from google-auth<2,>=1.6.3->tensorboard>=2.2.0->pytorch-lightning==1.2.1->-r requirements.txt (line 4)) (4.7.2)\n",
      "Requirement already satisfied: pyasn1-modules>=0.2.1 in c:\\users\\yong\\anaconda3\\lib\\site-packages (from google-auth<2,>=1.6.3->tensorboard>=2.2.0->pytorch-lightning==1.2.1->-r requirements.txt (line 4)) (0.2.8)\n",
      "Requirement already satisfied: requests-oauthlib>=0.7.0 in c:\\users\\yong\\anaconda3\\lib\\site-packages (from google-auth-oauthlib<0.5,>=0.4.1->tensorboard>=2.2.0->pytorch-lightning==1.2.1->-r requirements.txt (line 4)) (1.3.0)\n",
      "Requirement already satisfied: jupyter-client in c:\\users\\yong\\anaconda3\\lib\\site-packages (from ipykernel>=5.1.2->pydeck>=0.1.dev5->streamlit==0.72.0->-r requirements.txt (line 5)) (5.3.4)\n",
      "Requirement already satisfied: ipython>=5.0.0 in c:\\users\\yong\\anaconda3\\lib\\site-packages (from ipykernel>=5.1.2->pydeck>=0.1.dev5->streamlit==0.72.0->-r requirements.txt (line 5)) (7.12.0)\n",
      "Requirement already satisfied: widgetsnbextension~=3.5.0 in c:\\users\\yong\\anaconda3\\lib\\site-packages (from ipywidgets>=7.0.0->pydeck>=0.1.dev5->streamlit==0.72.0->-r requirements.txt (line 5)) (3.5.1)\n",
      "Requirement already satisfied: nbformat>=4.2.0 in c:\\users\\yong\\anaconda3\\lib\\site-packages (from ipywidgets>=7.0.0->pydeck>=0.1.dev5->streamlit==0.72.0->-r requirements.txt (line 5)) (5.0.4)\n",
      "Requirement already satisfied: MarkupSafe>=0.23 in c:\\users\\yong\\anaconda3\\lib\\site-packages (from jinja2->altair>=3.2.0->streamlit==0.72.0->-r requirements.txt (line 5)) (1.1.1)\n",
      "Requirement already satisfied: ipython-genutils in c:\\users\\yong\\anaconda3\\lib\\site-packages (from traitlets>=4.3.2->pydeck>=0.1.dev5->streamlit==0.72.0->-r requirements.txt (line 5)) (0.2.0)\n",
      "Requirement already satisfied: attrs>=17.3.0 in c:\\users\\yong\\anaconda3\\lib\\site-packages (from aiohttp->fsspec[http]>=0.8.1->pytorch-lightning==1.2.1->-r requirements.txt (line 4)) (21.2.0)\n",
      "Requirement already satisfied: frozenlist>=1.1.1 in c:\\users\\yong\\anaconda3\\lib\\site-packages (from aiohttp->fsspec[http]>=0.8.1->pytorch-lightning==1.2.1->-r requirements.txt (line 4)) (1.2.0)\n",
      "Requirement already satisfied: asynctest==0.13.0 in c:\\users\\yong\\anaconda3\\lib\\site-packages (from aiohttp->fsspec[http]>=0.8.1->pytorch-lightning==1.2.1->-r requirements.txt (line 4)) (0.13.0)\n",
      "Requirement already satisfied: async-timeout<5.0,>=4.0.0a3 in c:\\users\\yong\\anaconda3\\lib\\site-packages (from aiohttp->fsspec[http]>=0.8.1->pytorch-lightning==1.2.1->-r requirements.txt (line 4)) (4.0.1)\n",
      "Requirement already satisfied: yarl<2.0,>=1.0 in c:\\users\\yong\\anaconda3\\lib\\site-packages (from aiohttp->fsspec[http]>=0.8.1->pytorch-lightning==1.2.1->-r requirements.txt (line 4)) (1.7.2)\n",
      "Requirement already satisfied: multidict<7.0,>=4.5 in c:\\users\\yong\\anaconda3\\lib\\site-packages (from aiohttp->fsspec[http]>=0.8.1->pytorch-lightning==1.2.1->-r requirements.txt (line 4)) (5.2.0)\n",
      "Requirement already satisfied: aiosignal>=1.1.2 in c:\\users\\yong\\anaconda3\\lib\\site-packages (from aiohttp->fsspec[http]>=0.8.1->pytorch-lightning==1.2.1->-r requirements.txt (line 4)) (1.2.0)\n",
      "Requirement already satisfied: pyrsistent>=0.14.0 in c:\\users\\yong\\anaconda3\\lib\\site-packages (from jsonschema->altair>=3.2.0->streamlit==0.72.0->-r requirements.txt (line 5)) (0.15.7)\n",
      "Requirement already satisfied: pygments in c:\\users\\yong\\anaconda3\\lib\\site-packages (from ipython>=5.0.0->ipykernel>=5.1.2->pydeck>=0.1.dev5->streamlit==0.72.0->-r requirements.txt (line 5)) (2.7.1)\n",
      "Requirement already satisfied: colorama in c:\\users\\yong\\anaconda3\\lib\\site-packages (from ipython>=5.0.0->ipykernel>=5.1.2->pydeck>=0.1.dev5->streamlit==0.72.0->-r requirements.txt (line 5)) (0.4.3)\n",
      "Requirement already satisfied: pickleshare in c:\\users\\yong\\anaconda3\\lib\\site-packages (from ipython>=5.0.0->ipykernel>=5.1.2->pydeck>=0.1.dev5->streamlit==0.72.0->-r requirements.txt (line 5)) (0.7.5)\n",
      "Requirement already satisfied: backcall in c:\\users\\yong\\anaconda3\\lib\\site-packages (from ipython>=5.0.0->ipykernel>=5.1.2->pydeck>=0.1.dev5->streamlit==0.72.0->-r requirements.txt (line 5)) (0.1.0)\n",
      "Requirement already satisfied: jedi>=0.10 in c:\\users\\yong\\anaconda3\\lib\\site-packages (from ipython>=5.0.0->ipykernel>=5.1.2->pydeck>=0.1.dev5->streamlit==0.72.0->-r requirements.txt (line 5)) (0.14.1)\n",
      "Requirement already satisfied: prompt-toolkit!=3.0.0,!=3.0.1,<3.1.0,>=2.0.0 in c:\\users\\yong\\anaconda3\\lib\\site-packages (from ipython>=5.0.0->ipykernel>=5.1.2->pydeck>=0.1.dev5->streamlit==0.72.0->-r requirements.txt (line 5)) (3.0.3)\n",
      "Requirement already satisfied: jupyter-core in c:\\users\\yong\\anaconda3\\lib\\site-packages (from nbformat>=4.2.0->ipywidgets>=7.0.0->pydeck>=0.1.dev5->streamlit==0.72.0->-r requirements.txt (line 5)) (4.6.1)\n",
      "Requirement already satisfied: pyasn1<0.5.0,>=0.4.6 in c:\\users\\yong\\anaconda3\\lib\\site-packages (from pyasn1-modules>=0.2.1->google-auth<2,>=1.6.3->tensorboard>=2.2.0->pytorch-lightning==1.2.1->-r requirements.txt (line 4)) (0.4.8)\n",
      "Requirement already satisfied: oauthlib>=3.0.0 in c:\\users\\yong\\anaconda3\\lib\\site-packages (from requests-oauthlib>=0.7.0->google-auth-oauthlib<0.5,>=0.4.1->tensorboard>=2.2.0->pytorch-lightning==1.2.1->-r requirements.txt (line 4)) (3.1.0)\n",
      "Requirement already satisfied: notebook>=4.4.1 in c:\\users\\yong\\anaconda3\\lib\\site-packages (from widgetsnbextension~=3.5.0->ipywidgets>=7.0.0->pydeck>=0.1.dev5->streamlit==0.72.0->-r requirements.txt (line 5)) (6.4.3)\n",
      "Requirement already satisfied: pywin32>=1.0 in c:\\users\\yong\\anaconda3\\lib\\site-packages (from jupyter-client->ipykernel>=5.1.2->pydeck>=0.1.dev5->streamlit==0.72.0->-r requirements.txt (line 5)) (227)\n",
      "Requirement already satisfied: pyzmq>=13 in c:\\users\\yong\\anaconda3\\lib\\site-packages (from jupyter-client->ipykernel>=5.1.2->pydeck>=0.1.dev5->streamlit==0.72.0->-r requirements.txt (line 5)) (18.1.1)\n",
      "Requirement already satisfied: parso>=0.5.0 in c:\\users\\yong\\anaconda3\\lib\\site-packages (from jedi>=0.10->ipython>=5.0.0->ipykernel>=5.1.2->pydeck>=0.1.dev5->streamlit==0.72.0->-r requirements.txt (line 5)) (0.5.2)\n",
      "Requirement already satisfied: terminado>=0.8.3 in c:\\users\\yong\\anaconda3\\lib\\site-packages (from notebook>=4.4.1->widgetsnbextension~=3.5.0->ipywidgets>=7.0.0->pydeck>=0.1.dev5->streamlit==0.72.0->-r requirements.txt (line 5)) (0.8.3)\n",
      "Requirement already satisfied: prometheus-client in c:\\users\\yong\\anaconda3\\lib\\site-packages (from notebook>=4.4.1->widgetsnbextension~=3.5.0->ipywidgets>=7.0.0->pydeck>=0.1.dev5->streamlit==0.72.0->-r requirements.txt (line 5)) (0.7.1)\n",
      "Requirement already satisfied: nbconvert in c:\\users\\yong\\anaconda3\\lib\\site-packages (from notebook>=4.4.1->widgetsnbextension~=3.5.0->ipywidgets>=7.0.0->pydeck>=0.1.dev5->streamlit==0.72.0->-r requirements.txt (line 5)) (5.6.1)\n",
      "Requirement already satisfied: argon2-cffi in c:\\users\\yong\\anaconda3\\lib\\site-packages (from notebook>=4.4.1->widgetsnbextension~=3.5.0->ipywidgets>=7.0.0->pydeck>=0.1.dev5->streamlit==0.72.0->-r requirements.txt (line 5)) (20.1.0)\n",
      "Requirement already satisfied: Send2Trash>=1.5.0 in c:\\users\\yong\\anaconda3\\lib\\site-packages (from notebook>=4.4.1->widgetsnbextension~=3.5.0->ipywidgets>=7.0.0->pydeck>=0.1.dev5->streamlit==0.72.0->-r requirements.txt (line 5)) (1.5.0)\n",
      "Requirement already satisfied: wcwidth in c:\\users\\yong\\anaconda3\\lib\\site-packages (from prompt-toolkit!=3.0.0,!=3.0.1,<3.1.0,>=2.0.0->ipython>=5.0.0->ipykernel>=5.1.2->pydeck>=0.1.dev5->streamlit==0.72.0->-r requirements.txt (line 5)) (0.1.8)\n",
      "Requirement already satisfied: cffi>=1.0.0 in c:\\users\\yong\\anaconda3\\lib\\site-packages (from argon2-cffi->notebook>=4.4.1->widgetsnbextension~=3.5.0->ipywidgets>=7.0.0->pydeck>=0.1.dev5->streamlit==0.72.0->-r requirements.txt (line 5)) (1.14.0)\n",
      "Requirement already satisfied: mistune<2,>=0.8.1 in c:\\users\\yong\\anaconda3\\lib\\site-packages (from nbconvert->notebook>=4.4.1->widgetsnbextension~=3.5.0->ipywidgets>=7.0.0->pydeck>=0.1.dev5->streamlit==0.72.0->-r requirements.txt (line 5)) (0.8.4)\n",
      "Requirement already satisfied: testpath in c:\\users\\yong\\anaconda3\\lib\\site-packages (from nbconvert->notebook>=4.4.1->widgetsnbextension~=3.5.0->ipywidgets>=7.0.0->pydeck>=0.1.dev5->streamlit==0.72.0->-r requirements.txt (line 5)) (0.4.4)\n",
      "Requirement already satisfied: defusedxml in c:\\users\\yong\\anaconda3\\lib\\site-packages (from nbconvert->notebook>=4.4.1->widgetsnbextension~=3.5.0->ipywidgets>=7.0.0->pydeck>=0.1.dev5->streamlit==0.72.0->-r requirements.txt (line 5)) (0.6.0)\n",
      "Requirement already satisfied: pandocfilters>=1.4.1 in c:\\users\\yong\\anaconda3\\lib\\site-packages (from nbconvert->notebook>=4.4.1->widgetsnbextension~=3.5.0->ipywidgets>=7.0.0->pydeck>=0.1.dev5->streamlit==0.72.0->-r requirements.txt (line 5)) (1.4.2)\n",
      "Requirement already satisfied: bleach in c:\\users\\yong\\anaconda3\\lib\\site-packages (from nbconvert->notebook>=4.4.1->widgetsnbextension~=3.5.0->ipywidgets>=7.0.0->pydeck>=0.1.dev5->streamlit==0.72.0->-r requirements.txt (line 5)) (3.2.1)\n",
      "Requirement already satisfied: pycparser in c:\\users\\yong\\anaconda3\\lib\\site-packages (from cffi>=1.0.0->argon2-cffi->notebook>=4.4.1->widgetsnbextension~=3.5.0->ipywidgets>=7.0.0->pydeck>=0.1.dev5->streamlit==0.72.0->-r requirements.txt (line 5)) (2.19)\n",
      "Requirement already satisfied: webencodings in c:\\users\\yong\\anaconda3\\lib\\site-packages (from bleach->nbconvert->notebook>=4.4.1->widgetsnbextension~=3.5.0->ipywidgets>=7.0.0->pydeck>=0.1.dev5->streamlit==0.72.0->-r requirements.txt (line 5)) (0.5.1)\n"
     ]
    },
    {
     "name": "stdout",
     "output_type": "stream",
     "text": [
      "Installing collected packages: transformers, streamlit, pytorch-lightning\n",
      "  Attempting uninstall: transformers\n",
      "    Found existing installation: transformers 4.8.2\n",
      "    Uninstalling transformers-4.8.2:\n",
      "      Successfully uninstalled transformers-4.8.2\n",
      "  Attempting uninstall: streamlit\n",
      "    Found existing installation: streamlit 1.1.0\n",
      "    Uninstalling streamlit-1.1.0:\n",
      "      Successfully uninstalled streamlit-1.1.0\n",
      "  Attempting uninstall: pytorch-lightning\n",
      "    Found existing installation: pytorch-lightning 1.3.8\n",
      "    Uninstalling pytorch-lightning-1.3.8:\n",
      "      Successfully uninstalled pytorch-lightning-1.3.8\n",
      "Successfully installed pytorch-lightning-1.2.1 streamlit-0.72.0 transformers-4.3.3\n",
      "Note: you may need to restart the kernel to use updated packages.\n"
     ]
    },
    {
     "name": "stderr",
     "output_type": "stream",
     "text": [
      "WARNING: Ignoring invalid distribution -atplotlib (c:\\users\\yong\\anaconda3\\lib\\site-packages)\n",
      "WARNING: Ignoring invalid distribution -atplotlib (c:\\users\\yong\\anaconda3\\lib\\site-packages)\n",
      "WARNING: Ignoring invalid distribution -atplotlib (c:\\users\\yong\\anaconda3\\lib\\site-packages)\n",
      "    WARNING: Ignoring invalid distribution -atplotlib (c:\\users\\yong\\anaconda3\\lib\\site-packages)\n",
      "    WARNING: Ignoring invalid distribution -atplotlib (c:\\users\\yong\\anaconda3\\lib\\site-packages)\n",
      "    WARNING: Ignoring invalid distribution -atplotlib (c:\\users\\yong\\anaconda3\\lib\\site-packages)\n",
      "WARNING: Ignoring invalid distribution -atplotlib (c:\\users\\yong\\anaconda3\\lib\\site-packages)\n",
      "WARNING: Ignoring invalid distribution -atplotlib (c:\\users\\yong\\anaconda3\\lib\\site-packages)\n",
      "WARNING: Ignoring invalid distribution -atplotlib (c:\\users\\yong\\anaconda3\\lib\\site-packages)\n",
      "WARNING: Ignoring invalid distribution -atplotlib (c:\\users\\yong\\anaconda3\\lib\\site-packages)\n",
      "WARNING: Ignoring invalid distribution -atplotlib (c:\\users\\yong\\anaconda3\\lib\\site-packages)\n"
     ]
    }
   ],
   "source": [
    "pip install -r requirements.txt"
   ]
  },
  {
   "cell_type": "code",
   "execution_count": 41,
   "metadata": {},
   "outputs": [
    {
     "name": "stdout",
     "output_type": "stream",
     "text": [
      "C:\\Users\\Yong\\코드스테이츠 AI\\Section Project\\Project1\\KoBART-summarization\\data\n"
     ]
    }
   ],
   "source": [
    "cd data"
   ]
  },
  {
   "cell_type": "code",
   "execution_count": 42,
   "metadata": {},
   "outputs": [
    {
     "name": "stderr",
     "output_type": "stream",
     "text": [
      "x train.tsv\n"
     ]
    }
   ],
   "source": [
    "!tar -zxvf train.tar.gz"
   ]
  },
  {
   "cell_type": "code",
   "execution_count": 43,
   "metadata": {},
   "outputs": [
    {
     "name": "stderr",
     "output_type": "stream",
     "text": [
      "x test.tsv\n"
     ]
    }
   ],
   "source": [
    "!tar -zxvf test.tar.gz"
   ]
  },
  {
   "cell_type": "code",
   "execution_count": 44,
   "metadata": {},
   "outputs": [
    {
     "data": {
      "text/html": [
       "<div>\n",
       "<style scoped>\n",
       "    .dataframe tbody tr th:only-of-type {\n",
       "        vertical-align: middle;\n",
       "    }\n",
       "\n",
       "    .dataframe tbody tr th {\n",
       "        vertical-align: top;\n",
       "    }\n",
       "\n",
       "    .dataframe thead th {\n",
       "        text-align: right;\n",
       "    }\n",
       "</style>\n",
       "<table border=\"1\" class=\"dataframe\">\n",
       "  <thead>\n",
       "    <tr style=\"text-align: right;\">\n",
       "      <th></th>\n",
       "      <th>news</th>\n",
       "      <th>summary</th>\n",
       "    </tr>\n",
       "  </thead>\n",
       "  <tbody>\n",
       "    <tr>\n",
       "      <th>0</th>\n",
       "      <td>일제 강제징용피해자들이 지난 2월 발의된 ‘근로정신대 피해자 지원법률안’의 조속한 ...</td>\n",
       "      <td>13일 광주시의회 시민 소통실에서 시민단체 '근로정신대 할머니와 함께 하는 시민모임...</td>\n",
       "    </tr>\n",
       "    <tr>\n",
       "      <th>1</th>\n",
       "      <td>문재인 대통령이 이르면 9일 중폭 개각을 단행할 것으로 보인다. 여권 관계자는 8일...</td>\n",
       "      <td>문재인 대통령이 이르면 9일 장관 3~4명, 장관급 3명을 교체하는 개각을 단행하고...</td>\n",
       "    </tr>\n",
       "    <tr>\n",
       "      <th>2</th>\n",
       "      <td>전남 어촌마을 정주여건 개선 ‘탄력’ 해수부 공모서 고흥 득량도·강진 신전 등 4개...</td>\n",
       "      <td>해양수산부 어촌종합개발 거점 개발사업에 전남 고흥 득량도, 강진 신전, 완도 충동,...</td>\n",
       "    </tr>\n",
       "    <tr>\n",
       "      <th>3</th>\n",
       "      <td>여자친구 알몸을 무단으로 촬영해 인터넷 성인 카페에 유포한 남성이 재판에 넘겨졌다....</td>\n",
       "      <td>피해자 A씨는 가해자인 B씨의 엄벌을 촉구하며 국민청원에 피해사실을 공개하였고 결국...</td>\n",
       "    </tr>\n",
       "    <tr>\n",
       "      <th>4</th>\n",
       "      <td>대구시의회 배지숙 의장이 개회를 선언하고 있다. 대구시의회(의장 배지숙)는 14일부...</td>\n",
       "      <td>대구시의회가 14일 제1차 본회의를 시작으로 제265회 임시회를 개최하고 ‘대구시시...</td>\n",
       "    </tr>\n",
       "  </tbody>\n",
       "</table>\n",
       "</div>"
      ],
      "text/plain": [
       "                                                news  \\\n",
       "0  일제 강제징용피해자들이 지난 2월 발의된 ‘근로정신대 피해자 지원법률안’의 조속한 ...   \n",
       "1  문재인 대통령이 이르면 9일 중폭 개각을 단행할 것으로 보인다. 여권 관계자는 8일...   \n",
       "2  전남 어촌마을 정주여건 개선 ‘탄력’ 해수부 공모서 고흥 득량도·강진 신전 등 4개...   \n",
       "3  여자친구 알몸을 무단으로 촬영해 인터넷 성인 카페에 유포한 남성이 재판에 넘겨졌다....   \n",
       "4  대구시의회 배지숙 의장이 개회를 선언하고 있다. 대구시의회(의장 배지숙)는 14일부...   \n",
       "\n",
       "                                             summary  \n",
       "0  13일 광주시의회 시민 소통실에서 시민단체 '근로정신대 할머니와 함께 하는 시민모임...  \n",
       "1  문재인 대통령이 이르면 9일 장관 3~4명, 장관급 3명을 교체하는 개각을 단행하고...  \n",
       "2  해양수산부 어촌종합개발 거점 개발사업에 전남 고흥 득량도, 강진 신전, 완도 충동,...  \n",
       "3  피해자 A씨는 가해자인 B씨의 엄벌을 촉구하며 국민청원에 피해사실을 공개하였고 결국...  \n",
       "4  대구시의회가 14일 제1차 본회의를 시작으로 제265회 임시회를 개최하고 ‘대구시시...  "
      ]
     },
     "execution_count": 44,
     "metadata": {},
     "output_type": "execute_result"
    }
   ],
   "source": [
    "# 전처리된 데이터 추가 후 학습시켜보기\n",
    "\n",
    "df_train_tsv = pd.read_csv(\"train.tsv\", delimiter='\\t')\n",
    "df_test_tsv = pd.read_csv(\"test.tsv\", delimiter='\\t')\n",
    "df_train_tsv.head()"
   ]
  },
  {
   "cell_type": "code",
   "execution_count": 45,
   "metadata": {},
   "outputs": [
    {
     "data": {
      "text/html": [
       "<div>\n",
       "<style scoped>\n",
       "    .dataframe tbody tr th:only-of-type {\n",
       "        vertical-align: middle;\n",
       "    }\n",
       "\n",
       "    .dataframe tbody tr th {\n",
       "        vertical-align: top;\n",
       "    }\n",
       "\n",
       "    .dataframe thead th {\n",
       "        text-align: right;\n",
       "    }\n",
       "</style>\n",
       "<table border=\"1\" class=\"dataframe\">\n",
       "  <thead>\n",
       "    <tr style=\"text-align: right;\">\n",
       "      <th></th>\n",
       "      <th>news</th>\n",
       "      <th>summary</th>\n",
       "    </tr>\n",
       "  </thead>\n",
       "  <tbody>\n",
       "    <tr>\n",
       "      <th>0</th>\n",
       "      <td>계약금 10%·중도금무이자융자·6개월 후 전매가능 기자 아파트 분양시장이 실수요자 ...</td>\n",
       "      <td>태왕의 '성당 태왕아너스 메트로'모델하우스는 초역세권 입지와 변화하는 라이프스타일에...</td>\n",
       "    </tr>\n",
       "    <tr>\n",
       "      <th>1</th>\n",
       "      <td>▲ 박동우 안양동안경찰서 경비교통과 경장 이른 새벽 옆방에서 장난감 소리가 들려온다...</td>\n",
       "      <td>최근 늘어나고 있는 집회시위에서 소음이 문제가 되고 있는데 현행 집회와 시위에 관한...</td>\n",
       "    </tr>\n",
       "    <tr>\n",
       "      <th>2</th>\n",
       "      <td>지난 19일 옛 망주초등학교에서 송귀근 고흥군수와 송우섭 군의회 의장, 귀농·귀촌인...</td>\n",
       "      <td>지난 19일 고흥군에 따르면 송귀근 군수와 주민 등 300여 명이 참석한 가운데 귀...</td>\n",
       "    </tr>\n",
       "    <tr>\n",
       "      <th>3</th>\n",
       "      <td>여자 하이다이빙 금메달을 차지한 호주 이프랜드(오른쪽) 선수가 환호하고 있다. /김...</td>\n",
       "      <td>23일 조선대학교에서 열린 여자 하이다이빙 최종전에서 호주의 이프랜드가 금메달을 차...</td>\n",
       "    </tr>\n",
       "    <tr>\n",
       "      <th>4</th>\n",
       "      <td>시간선택제 공무원 채용 공고, 사이버국가고시센터 11개 부처에서 34명 선발, 5월...</td>\n",
       "      <td>사이버 국가고시센터에서는 시간선택제 공무원을 선발 하는데, 시간선택제 공무원은 통상...</td>\n",
       "    </tr>\n",
       "  </tbody>\n",
       "</table>\n",
       "</div>"
      ],
      "text/plain": [
       "                                                news  \\\n",
       "0  계약금 10%·중도금무이자융자·6개월 후 전매가능 기자 아파트 분양시장이 실수요자 ...   \n",
       "1  ▲ 박동우 안양동안경찰서 경비교통과 경장 이른 새벽 옆방에서 장난감 소리가 들려온다...   \n",
       "2  지난 19일 옛 망주초등학교에서 송귀근 고흥군수와 송우섭 군의회 의장, 귀농·귀촌인...   \n",
       "3  여자 하이다이빙 금메달을 차지한 호주 이프랜드(오른쪽) 선수가 환호하고 있다. /김...   \n",
       "4  시간선택제 공무원 채용 공고, 사이버국가고시센터 11개 부처에서 34명 선발, 5월...   \n",
       "\n",
       "                                             summary  \n",
       "0  태왕의 '성당 태왕아너스 메트로'모델하우스는 초역세권 입지와 변화하는 라이프스타일에...  \n",
       "1  최근 늘어나고 있는 집회시위에서 소음이 문제가 되고 있는데 현행 집회와 시위에 관한...  \n",
       "2  지난 19일 고흥군에 따르면 송귀근 군수와 주민 등 300여 명이 참석한 가운데 귀...  \n",
       "3  23일 조선대학교에서 열린 여자 하이다이빙 최종전에서 호주의 이프랜드가 금메달을 차...  \n",
       "4  사이버 국가고시센터에서는 시간선택제 공무원을 선발 하는데, 시간선택제 공무원은 통상...  "
      ]
     },
     "execution_count": 45,
     "metadata": {},
     "output_type": "execute_result"
    }
   ],
   "source": [
    "df_test_tsv.head()"
   ]
  },
  {
   "cell_type": "code",
   "execution_count": 46,
   "metadata": {},
   "outputs": [],
   "source": [
    "train_df['news'] = train_df['text']\n",
    "train_df['summary'] = train_df['abstract']\n",
    "train_df.drop(['text','abstract'],axis=1, inplace=True)\n",
    "validation_df['news'] = validation_df['text']\n",
    "validation_df['summary'] = validation_df['abstract']\n",
    "validation_df.drop(['text','abstract'],axis=1, inplace=True)\n",
    "\n",
    "train_final = pd.concat([df_train_tsv, train_df])\n",
    "test_final = pd.concat([df_test_tsv, validation_df])"
   ]
  },
  {
   "cell_type": "code",
   "execution_count": 47,
   "metadata": {},
   "outputs": [],
   "source": [
    "# dataframe to tsv\n",
    "\n",
    "train_final.to_csv('train.tsv', index=False, header=True, sep='\\t')\n",
    "test_final.to_csv('test.tsv', index=False, header=True, sep='\\t')"
   ]
  },
  {
   "cell_type": "code",
   "execution_count": 48,
   "metadata": {},
   "outputs": [
    {
     "data": {
      "text/html": [
       "<div>\n",
       "<style scoped>\n",
       "    .dataframe tbody tr th:only-of-type {\n",
       "        vertical-align: middle;\n",
       "    }\n",
       "\n",
       "    .dataframe tbody tr th {\n",
       "        vertical-align: top;\n",
       "    }\n",
       "\n",
       "    .dataframe thead th {\n",
       "        text-align: right;\n",
       "    }\n",
       "</style>\n",
       "<table border=\"1\" class=\"dataframe\">\n",
       "  <thead>\n",
       "    <tr style=\"text-align: right;\">\n",
       "      <th></th>\n",
       "      <th>news</th>\n",
       "      <th>summary</th>\n",
       "    </tr>\n",
       "  </thead>\n",
       "  <tbody>\n",
       "    <tr>\n",
       "      <th>0</th>\n",
       "      <td>일제 강제징용피해자들이 지난 2월 발의된 ‘근로정신대 피해자 지원법률안’의 조속한 ...</td>\n",
       "      <td>13일 광주시의회 시민 소통실에서 시민단체 '근로정신대 할머니와 함께 하는 시민모임...</td>\n",
       "    </tr>\n",
       "    <tr>\n",
       "      <th>1</th>\n",
       "      <td>문재인 대통령이 이르면 9일 중폭 개각을 단행할 것으로 보인다. 여권 관계자는 8일...</td>\n",
       "      <td>문재인 대통령이 이르면 9일 장관 3~4명, 장관급 3명을 교체하는 개각을 단행하고...</td>\n",
       "    </tr>\n",
       "    <tr>\n",
       "      <th>2</th>\n",
       "      <td>전남 어촌마을 정주여건 개선 ‘탄력’ 해수부 공모서 고흥 득량도·강진 신전 등 4개...</td>\n",
       "      <td>해양수산부 어촌종합개발 거점 개발사업에 전남 고흥 득량도, 강진 신전, 완도 충동,...</td>\n",
       "    </tr>\n",
       "    <tr>\n",
       "      <th>3</th>\n",
       "      <td>여자친구 알몸을 무단으로 촬영해 인터넷 성인 카페에 유포한 남성이 재판에 넘겨졌다....</td>\n",
       "      <td>피해자 A씨는 가해자인 B씨의 엄벌을 촉구하며 국민청원에 피해사실을 공개하였고 결국...</td>\n",
       "    </tr>\n",
       "    <tr>\n",
       "      <th>4</th>\n",
       "      <td>대구시의회 배지숙 의장이 개회를 선언하고 있다. 대구시의회(의장 배지숙)는 14일부...</td>\n",
       "      <td>대구시의회가 14일 제1차 본회의를 시작으로 제265회 임시회를 개최하고 ‘대구시시...</td>\n",
       "    </tr>\n",
       "    <tr>\n",
       "      <th>...</th>\n",
       "      <td>...</td>\n",
       "      <td>...</td>\n",
       "    </tr>\n",
       "    <tr>\n",
       "      <th>271088</th>\n",
       "      <td>노유정 기자 조양호 한진그룹 회장의 갑작스런 타계 소식이 전해진 8일 오전, 서울 ...</td>\n",
       "      <td>8일 미국에서 들려온 조양호 한진그룹 회장의 사망 소식에 서울 공항동 대한항공 본사...</td>\n",
       "    </tr>\n",
       "    <tr>\n",
       "      <th>271089</th>\n",
       "      <td>조양호 한진그룹 회장이 타계하자 재계는 일제히 추모성명을 냈다. 전국경제인연합회는 ...</td>\n",
       "      <td>조양호 한진그룹 회장이 타계하고 8일 전국경제인연합회는 논평을 통해 한국 항공과 물...</td>\n",
       "    </tr>\n",
       "    <tr>\n",
       "      <th>271090</th>\n",
       "      <td>김익환 기자 조양호 한진그룹 회장이 타계하면서 그의 재산을 물려받을 장남 조원태 대...</td>\n",
       "      <td>회장의 한진칼, 한진 상장회사의 주식가격 총합은 3560억 정도 되며 이에 할증률이...</td>\n",
       "    </tr>\n",
       "    <tr>\n",
       "      <th>271091</th>\n",
       "      <td>김보형 기자 조양호 한진그룹 회장이 8일 타계하면서 그의 장남인 조원태 대한항공 사...</td>\n",
       "      <td>지난 8일 조양호 한진그룹 회장이 별세하면서 한진그룹은 비상경영체제에 돌입했고, 그...</td>\n",
       "    </tr>\n",
       "    <tr>\n",
       "      <th>271092</th>\n",
       "      <td>박동휘 기자 국방부가 8일 상반기 장성 인사를 단행했다. 한국군 주도의 한·미 연합...</td>\n",
       "      <td>국방부는 8일 신임 육군참모총장에 '서욱' 합동참모본부 작전본부장, 신임 공군참모총...</td>\n",
       "    </tr>\n",
       "  </tbody>\n",
       "</table>\n",
       "<p>304879 rows × 2 columns</p>\n",
       "</div>"
      ],
      "text/plain": [
       "                                                     news  \\\n",
       "0       일제 강제징용피해자들이 지난 2월 발의된 ‘근로정신대 피해자 지원법률안’의 조속한 ...   \n",
       "1       문재인 대통령이 이르면 9일 중폭 개각을 단행할 것으로 보인다. 여권 관계자는 8일...   \n",
       "2       전남 어촌마을 정주여건 개선 ‘탄력’ 해수부 공모서 고흥 득량도·강진 신전 등 4개...   \n",
       "3       여자친구 알몸을 무단으로 촬영해 인터넷 성인 카페에 유포한 남성이 재판에 넘겨졌다....   \n",
       "4       대구시의회 배지숙 의장이 개회를 선언하고 있다. 대구시의회(의장 배지숙)는 14일부...   \n",
       "...                                                   ...   \n",
       "271088  노유정 기자 조양호 한진그룹 회장의 갑작스런 타계 소식이 전해진 8일 오전, 서울 ...   \n",
       "271089  조양호 한진그룹 회장이 타계하자 재계는 일제히 추모성명을 냈다. 전국경제인연합회는 ...   \n",
       "271090  김익환 기자 조양호 한진그룹 회장이 타계하면서 그의 재산을 물려받을 장남 조원태 대...   \n",
       "271091  김보형 기자 조양호 한진그룹 회장이 8일 타계하면서 그의 장남인 조원태 대한항공 사...   \n",
       "271092  박동휘 기자 국방부가 8일 상반기 장성 인사를 단행했다. 한국군 주도의 한·미 연합...   \n",
       "\n",
       "                                                  summary  \n",
       "0       13일 광주시의회 시민 소통실에서 시민단체 '근로정신대 할머니와 함께 하는 시민모임...  \n",
       "1       문재인 대통령이 이르면 9일 장관 3~4명, 장관급 3명을 교체하는 개각을 단행하고...  \n",
       "2       해양수산부 어촌종합개발 거점 개발사업에 전남 고흥 득량도, 강진 신전, 완도 충동,...  \n",
       "3       피해자 A씨는 가해자인 B씨의 엄벌을 촉구하며 국민청원에 피해사실을 공개하였고 결국...  \n",
       "4       대구시의회가 14일 제1차 본회의를 시작으로 제265회 임시회를 개최하고 ‘대구시시...  \n",
       "...                                                   ...  \n",
       "271088  8일 미국에서 들려온 조양호 한진그룹 회장의 사망 소식에 서울 공항동 대한항공 본사...  \n",
       "271089  조양호 한진그룹 회장이 타계하고 8일 전국경제인연합회는 논평을 통해 한국 항공과 물...  \n",
       "271090  회장의 한진칼, 한진 상장회사의 주식가격 총합은 3560억 정도 되며 이에 할증률이...  \n",
       "271091  지난 8일 조양호 한진그룹 회장이 별세하면서 한진그룹은 비상경영체제에 돌입했고, 그...  \n",
       "271092  국방부는 8일 신임 육군참모총장에 '서욱' 합동참모본부 작전본부장, 신임 공군참모총...  \n",
       "\n",
       "[304879 rows x 2 columns]"
      ]
     },
     "execution_count": 48,
     "metadata": {},
     "output_type": "execute_result"
    }
   ],
   "source": [
    "train_final"
   ]
  },
  {
   "cell_type": "code",
   "execution_count": 49,
   "metadata": {},
   "outputs": [
    {
     "name": "stdout",
     "output_type": "stream",
     "text": [
      "C:\\Users\\Yong\\코드스테이츠 AI\\Section Project\\Project1\\KoBART-summarization\n"
     ]
    }
   ],
   "source": [
    "cd ../"
   ]
  },
  {
   "cell_type": "code",
   "execution_count": 50,
   "metadata": {},
   "outputs": [],
   "source": [
    "# gpu환경\n",
    "#!python train.py  --gradient_clip_val 1.0 --max_epochs 10 --default_root_dir logs  --gpus 1 --batch_size 4 --num_workers 2"
   ]
  },
  {
   "cell_type": "code",
   "execution_count": 51,
   "metadata": {},
   "outputs": [],
   "source": [
    "# cpu환경\n",
    "#!python train.py  --gradient_clip_val 1.0 --max_epochs 1 --default_root_dir logs  --batch_size 4 --num_workers 4"
   ]
  },
  {
   "cell_type": "markdown",
   "metadata": {},
   "source": [
    "from kobart import get_kobart_tokenizer\n",
    "\n",
    "kobart_tokenizer = get_kobart_tokenizer()\n",
    "kobart_tokenizer.tokenize(\"안녕하세요. 이용욱 입니다!\")"
   ]
  },
  {
   "cell_type": "markdown",
   "metadata": {},
   "source": [
    "from transformers import BartModel\n",
    "from kobart import get_pytorch_kobart_model, get_kobart_tokenizer\n",
    "\n",
    "kobart_tokenizer = get_kobart_tokenizer()\n",
    "model = BartModel.from_pretrained(get_pytorch_kobart_model())\n",
    "inputs = kobart_tokenizer(['안녕하세요.'], return_tensors='pt')\n",
    "model(inputs['input_ids'])"
   ]
  },
  {
   "cell_type": "code",
   "execution_count": 65,
   "metadata": {},
   "outputs": [],
   "source": [
    "# https://github.com/hyunwoongko/kobart-transformers 참고\n",
    "from transformers import PreTrainedTokenizerFast, BartForConditionalGeneration\n",
    "\n",
    "# 모델과 문장분리를 위한 토크나이저\n",
    "tokenizer = PreTrainedTokenizerFast.from_pretrained(\"gogamza/kobart-summarization\")\n",
    "model = BartForConditionalGeneration.from_pretrained(\"gogamza/kobart-summarization\")"
   ]
  },
  {
   "cell_type": "markdown",
   "metadata": {},
   "source": [
    "#### 위 셀과 같음\n",
    "from kobart_transformers import get_kobart_tokenizer\n",
    "from kobart_transformers import get_kobart_for_conditional_generation\n",
    "\n",
    "kobart_tokenizer = get_kobart_tokenizer()\n",
    "kobart_model = get_kobart_for_conditional_generation()"
   ]
  },
  {
   "cell_type": "code",
   "execution_count": 108,
   "metadata": {},
   "outputs": [
    {
     "name": "stdout",
     "output_type": "stream",
     "text": [
      "[28589, 14143, 11841, 10746, 13090, 10341, 23601, 308, 16968, 313, 14889, 28102, 19023, 11786, 14621, 24002, 14469, 10338, 9495, 15874, 25863, 13123, 10869, 25933, 23905, 17551, 14038, 12126, 9246, 9246, 16144, 14370, 20126, 17842, 19995, 271, 278, 15092, 14153, 14355, 14143, 11911, 10313, 14296, 12034, 239, 317, 15562, 304, 15195, 315, 19524, 16637, 14889, 298, 14879, 309, 240, 18407, 14075, 10746, 13090, 16298, 16241, 14457, 14130, 14577, 16428, 23582, 13714, 14032, 14082, 14327, 11806, 10869, 15028, 14467, 26185, 15920, 14343, 14075, 10746, 13090, 20983, 14469, 10338, 9495, 15874, 14566, 11467, 11788, 14593, 15587, 20667, 14404, 14046, 16939, 14927, 14541, 8981, 15490, 14431, 16247, 14319, 14071, 12005, 23987, 14071, 21521, 19238, 14324, 23153, 15964, 19593, 15251, 14048, 15365, 14258, 16632, 14556, 10214, 16366, 14075, 10746, 13090, 22686, 14475, 10338, 11268, 26531, 1700, 13312, 12332, 17989, 14296, 12034, 19266, 18018, 15065, 14166, 14058, 15964]\n"
     ]
    }
   ],
   "source": [
    "news_text = \"세계가 ‘오미크론(Omicron)’ 공포에 빠졌다. 코로나19 델타변이도 잡지 못해 전전긍긍하는데 세계보건기구(WHO)가 또 다른 ‘우려 변이(variant of concern)’로 오미크론을 지정하면서다. 항체를 무력화 수 있는 돌연변이가 많은 걸로 파악되는 오미크론이 코로나19 백신엔 어떤 영향을 미칠지를 보려면 추가 연구가 필요한 상황이다. 각 국은 서둘러 국경의 빗장을 걸고 있다. 미국과 유럽 등 글로벌 증시를 폭락시킨 오미크론은 현재로선 어디로 튈지 모르는 변이여서 두려움을 더하고 있다.\"\n",
    "#news_text = preprocess_sentence(news_text)\n",
    "# 토크나이저를 사용하여 뉴스기사 원문을 모델이 인식할 수 있는 토큰형태로 바꿔줍니다.\n",
    "input_ids = tokenizer.encode(news_text)\n",
    "print(input_ids)"
   ]
  },
  {
   "cell_type": "code",
   "execution_count": 109,
   "metadata": {},
   "outputs": [],
   "source": [
    "# 모델에 넣기 전 문장의 시작과 끝을 나타내는 토큰을 추가합니다.\n",
    "input_ids = [tokenizer.bos_token_id] + input_ids + [tokenizer.eos_token_id]\n",
    "input_ids = torch.tensor([input_ids])"
   ]
  },
  {
   "cell_type": "code",
   "execution_count": 110,
   "metadata": {},
   "outputs": [
    {
     "data": {
      "text/plain": [
       "tensor([[    0, 28589, 14143, 11841, 10746, 13090, 10341, 23601,   308, 16968,\n",
       "           313, 14889, 28102, 19023, 11786, 14621, 24002, 14469, 10338,  9495,\n",
       "         15874, 25863, 13123, 10869, 25933, 23905, 17551, 14038, 12126,  9246,\n",
       "          9246, 16144, 14370, 20126, 17842, 19995,   271,   278, 15092, 14153,\n",
       "         14355, 14143, 11911, 10313, 14296, 12034,   239,   317, 15562,   304,\n",
       "         15195,   315, 19524, 16637, 14889,   298, 14879,   309,   240, 18407,\n",
       "         14075, 10746, 13090, 16298, 16241, 14457, 14130, 14577, 16428, 23582,\n",
       "         13714, 14032, 14082, 14327, 11806, 10869, 15028, 14467, 26185, 15920,\n",
       "         14343, 14075, 10746, 13090, 20983, 14469, 10338,  9495, 15874, 14566,\n",
       "         11467, 11788, 14593, 15587, 20667, 14404, 14046, 16939, 14927, 14541,\n",
       "          8981, 15490, 14431, 16247, 14319, 14071, 12005, 23987, 14071, 21521,\n",
       "         19238, 14324, 23153, 15964, 19593, 15251, 14048, 15365, 14258, 16632,\n",
       "         14556, 10214, 16366, 14075, 10746, 13090, 22686, 14475, 10338, 11268,\n",
       "         26531,  1700, 13312, 12332, 17989, 14296, 12034, 19266, 18018, 15065,\n",
       "         14166, 14058, 15964,     1]])"
      ]
     },
     "execution_count": 110,
     "metadata": {},
     "output_type": "execute_result"
    }
   ],
   "source": [
    "input_ids"
   ]
  },
  {
   "cell_type": "code",
   "execution_count": 111,
   "metadata": {},
   "outputs": [
    {
     "name": "stdout",
     "output_type": "stream",
     "text": [
      "세계보건기구(WHO)가 항체를 무력화 할 수 있는 돌연변이가 많은 걸로 파악되는 오미크론이 코로나19 백신엔 어떤 영향을 미칠지를 보려면 추가 연구가 필요한 상황으로 세계보건기구(WHO)가 세계보건기구(WHO)가 또 다른 ‘우려 변이’로 오미크론을 지정하면서 글로벌 증시를 폭락시킨 오미크론은 현재로선 어디로 튈지 모르는 변이여서 두려움을 더하고 있다.\n"
     ]
    }
   ],
   "source": [
    "summary_text_ids = model.generate(\n",
    "    input_ids=input_ids,\n",
    "    bos_token_id=model.config.bos_token_id,\n",
    "    eos_token_id=model.config.eos_token_id,\n",
    "    length_penalty=2.0, # 길이에 대한 penalty값. 1보다 작은 경우 더 짧은 문장을 생성하도록 유도하며, 1보다 클 경우 길이가 더 긴 문장을 유도\n",
    "    max_length=128,     # 요약문의 최대 길이 설정\n",
    "    min_length=32,      # 요약문의 최소 길이 설정\n",
    "    num_beams=4,        # 문장 생성시 다음 단어를 탐색하는 영역의 개수 \n",
    ")\n",
    "print(tokenizer.decode(summary_text_ids.squeeze(), skip_special_tokens=True))"
   ]
  },
  {
   "cell_type": "code",
   "execution_count": 112,
   "metadata": {},
   "outputs": [
    {
     "name": "stdout",
     "output_type": "stream",
     "text": [
      "세계보건기구(WHO)가 항체를 무력화 할 수 있는 돌연변이가 많은 걸로 파악되는 오미크론이 코로나19 백신엔 어떤 영향을 미칠지를 보려면 추가 연구가 필요한 상황이다.\n"
     ]
    }
   ],
   "source": [
    "summary_text_ids = model.generate(\n",
    "    input_ids=input_ids,\n",
    "    bos_token_id=model.config.bos_token_id,\n",
    "    eos_token_id=model.config.eos_token_id,\n",
    "    length_penalty=1.0, # 길이에 대한 penalty값. 1보다 작은 경우 더 짧은 문장을 생성하도록 유도하며, 1보다 클 경우 길이가 더 긴 문장을 유도\n",
    "    max_length=128,     # 요약문의 최대 길이 설정\n",
    "    min_length=32,      # 요약문의 최소 길이 설정\n",
    "    num_beams=4,        # 문장 생성시 다음 단어를 탐색하는 영역의 개수 \n",
    ")\n",
    "\n",
    "print(tokenizer.decode(summary_text_ids.squeeze(), skip_special_tokens=True))\n",
    "\n",
    "# penalty 값을 줄여 더 나은 요약확인"
   ]
  },
  {
   "cell_type": "code",
   "execution_count": 71,
   "metadata": {},
   "outputs": [
    {
     "name": "stdout",
     "output_type": "stream",
     "text": [
      "전라남도는 논에 벼를 심었던 논에 대신 사료작물이나 작물을 심으면 벼와의 일정 소득차를 보전해주는 생산조정제를 적극 추진키로 했다.\n"
     ]
    }
   ],
   "source": [
    "input_id1 = tokenizer.encode(train_df['news'][0])\n",
    "input_id1 = [tokenizer.bos_token_id] + input_id1 + [tokenizer.eos_token_id]\n",
    "input_id1 = torch.tensor([input_id1])\n",
    "\n",
    "summary_text_id1 = model.generate(\n",
    "    input_ids=input_id1,\n",
    "    bos_token_id=model.config.bos_token_id,\n",
    "    eos_token_id=model.config.eos_token_id,\n",
    "    length_penalty=2.0, # 길이에 대한 penalty값. 1보다 작은 경우 더 짧은 문장을 생성하도록 유도하며, 1보다 클 경우 길이가 더 긴 문장을 유도\n",
    "    max_length=128,     # 요약문의 최대 길이 설정\n",
    "    min_length=32,      # 요약문의 최소 길이 설정\n",
    "    num_beams=4,        # 문장 생성시 다음 단어를 탐색하는 영역의 개수 \n",
    ")\n",
    "print(tokenizer.decode(summary_text_id1.squeeze(), skip_special_tokens=True))"
   ]
  },
  {
   "cell_type": "code",
   "execution_count": 72,
   "metadata": {},
   "outputs": [
    {
     "name": "stdout",
     "output_type": "stream",
     "text": [
      "전라남도는 논에 벼를 심었던 논에 대신 사료작물이나 작물을 심으면 벼와의 일정 소득차를 보전해주는 생산조정제를 적극 추진키로 했다.\n"
     ]
    }
   ],
   "source": [
    "print(tokenizer.decode(summary_text_id1[0], skip_special_tokens=True))"
   ]
  },
  {
   "attachments": {
    "image.png": {
     "image/png": "[encoded data removed]"
    }
   },
   "cell_type": "markdown",
   "metadata": {},
   "source": [
    "# 평가지표(ROGUE)\n",
    "- 시스템요약(모델이 생성한 요약), 참조요약(사람이 만들어놓은 요약)\n",
    "- Rogue에서의 precision과 recall\n",
    "    - Recall : 참조 요약본을 구성하는 단어중 몇개의 단어가 시스템 요약본의 단어와 겹치는지(시스템요약본이 엄청 긴 문장일때 참조요약본과 크게 관련이 없어도 단어가 많이 겹칠 수 있음)\n",
    "    ![image.png](attachment:image.png)\n",
    "    \n",
    "    - Precision : recall의 문제를 해결하기 위해 계산, 시스템요약본 중 참조요약본과 겹치는 단어"
   ]
  },
  {
   "attachments": {
    "image.png": {
     "image/png": "[encoded data removed]"
    }
   },
   "cell_type": "markdown",
   "metadata": {},
   "source": [
    "![image.png](attachment:image.png)\n",
    "- 정확한 성능평가를 위해 precision과 recall 계산후 F-score 측정\n",
    "- 간결한 요약을 생성하고 있다면 precison은 성능평가에 큰 고려사항이 아님(recall만 사용)\n",
    "\n",
    "- (N-gram : 임의의 개수를 정하기 위한 기준, n개의 연속적인 단어 나열)\n",
    "####  ROUGE-1 : 시스템 요약본과 참조 요약본 간 겹치는 unigram의 수(n=1)\n",
    "#### ROUGE-2 : 시스템 요약본과 참조 요약본 간 겹치는 bigram의 수(n=2) ex) the cat, the bed.. \n",
    "\n",
    "### 기타 ROUGE지표 참고\n",
    "- https://huffon.github.io/2019/12/07/rouge/"
   ]
  },
  {
   "attachments": {
    "image.png": {
     "image/png": "[encoded data removed]"
    }
   },
   "cell_type": "markdown",
   "metadata": {},
   "source": [
    "![image.png](attachment:image.png)"
   ]
  },
  {
   "cell_type": "markdown",
   "metadata": {},
   "source": [
    "### 모델저장(pkl)\n"
   ]
  },
  {
   "cell_type": "code",
   "execution_count": 81,
   "metadata": {},
   "outputs": [
    {
     "data": {
      "text/plain": [
       "['C:/Users/Yong/코드스테이츠 AI/Section Project/Project1/flask_app/model/model.pkl']"
      ]
     },
     "execution_count": 81,
     "metadata": {},
     "output_type": "execute_result"
    }
   ],
   "source": [
    "joblib.dump(model, 'C:/Users/Yong/코드스테이츠 AI/Section Project/Project1/flask_app/model/model.pkl')\n",
    "# # Saving model to disk\n",
    "# pickle.dump(regressor, open('model.pkl','wb'))"
   ]
  },
  {
   "cell_type": "code",
   "execution_count": 117,
   "metadata": {},
   "outputs": [
    {
     "data": {
      "text/plain": [
       "'C:\\\\Users\\\\Yong\\\\코드스테이츠 AI\\\\Section Project\\\\Project1\\\\KoBART-summarization'"
      ]
     },
     "execution_count": 117,
     "metadata": {},
     "output_type": "execute_result"
    }
   ],
   "source": [
    "'C:\\\\Users\\\\Yong\\\\코드스테이츠 AI\\\\Section Project\\\\Project1\\\\flask_app'"
   ]
  },
  {
   "cell_type": "code",
   "execution_count": null,
   "metadata": {},
   "outputs": [],
   "source": [
    "text_dir = 'C:\\\\Users\\\\Yong\\\\Desktop\\\\text\\\\'\n",
    "stopwords = open(text_dir+'stopwords.txt', mode='rt', encoding='utf-8')\n",
    "stop_words = stopwords.read().split('\\n')\n",
    "\n",
    "def preprocess_sentence(sentence, remove_stopwords =True):\n",
    "    #sentence = re.sub(r'\\([^)]*\\)', '',sentence) # 괄호로 닫힌 문자열 제거\n",
    "    sentence = re.sub('([a-zA-Z0-9_.+-]+@[a-zA-Z0-9-]+\\.[a-zA-Z0-9-.]+)', '', sentence) # email주소 제거\n",
    "    sentence = re.sub('(http|ftp|https)://(?:[-\\w.]|(?:%[\\da-fA-F]{2}))+', '', sentence) # url 제거\n",
    "    sentence = re.sub('([ㄱ-ㅎㅏ-ㅣ]+)', '', sentence)  # 한글자음, 모음 제거 (ㅋㅋㅎㅎ..)\n",
    "    sentence = re.sub('<[^>]*>', '', sentence)          # html태그 제거(<H1> .. </H1>)\n",
    "    #sentence = re.sub('[^\\w\\s]', '', sentence)  # 특수기호 제거\n",
    "    sentence = re.sub('[-=+#/\\?:^$@*\\\"※~&%ㆍ!』\\\\‘|\\(\\)\\[\\]\\<\\>`\\…》]', '', sentence)\n",
    "    \n",
    "    \n",
    "    # 불용어 제거\n",
    "    if remove_stopwords:    # text\n",
    "        tokens = ' '.join(word for word in sentence.split() if not word in stop_words if len(word)>1)\n",
    "    else:                   # abstract\n",
    "        tokens = ' '.join(word for word in sentence.split() if len(word)>1)\n",
    "    return tokens"
   ]
  },
  {
   "cell_type": "code",
   "execution_count": 119,
   "metadata": {},
   "outputs": [
    {
     "name": "stdout",
     "output_type": "stream",
     "text": [
      "adsfafd\n",
      "텍스트 요약 : adsfafafddddddddddddddddddddddddddddddddddddddddddddddddddddddddddddddddddddddddddddddddddddddddddddddddddddddddddddddddddddddd\n"
     ]
    }
   ],
   "source": [
    "# 다시 불러와서 사용할 부분\n",
    "from transformers import PreTrainedTokenizerFast\n",
    "\n",
    "model_test = joblib.load('C:/Users/Yong/코드스테이츠 AI/Section Project/Project1/flask_app/model/model.pkl')\n",
    "\n",
    "news_text = input()\n",
    "news_text = preprocess_sentence(news_text)\n",
    "input_ids = tokenizer.encode(news_text)\n",
    "input_ids = [tokenizer.bos_token_id] + input_ids + [tokenizer.eos_token_id]\n",
    "input_ids = torch.tensor([input_ids])\n",
    "\n",
    "\n",
    "model_summary = model_test.generate(\n",
    "    input_ids=input_ids,\n",
    "    bos_token_id=model_test.config.bos_token_id,\n",
    "    eos_token_id=model_test.config.eos_token_id,\n",
    "    length_penalty=2.0, # 길이에 대한 penalty값. 1보다 작은 경우 더 짧은 문장을 생성하도록 유도하며, 1보다 클 경우 길이가 더 긴 문장을 유도\n",
    "    max_length=128,     # 요약문의 최대 길이 설정\n",
    "    min_length=32,      # 요약문의 최소 길이 설정\n",
    "    num_beams=4,        # 문장 생성시 다음 단어를 탐색하는 영역의 개수 \n",
    ")\n",
    "tokenizer = PreTrainedTokenizerFast.from_pretrained(\"gogamza/kobart-summarization\")\n",
    "print('텍스트 요약 : {}'.format(tokenizer.decode(model_summary.squeeze(), skip_special_tokens=True)))"
   ]
  },
  {
   "cell_type": "code",
   "execution_count": 118,
   "metadata": {},
   "outputs": [
    {
     "data": {
      "text/plain": [
       "'세계보건기구WHO가 항체를 무력화 있는 돌연변이가 많은 걸로 파악되는 오미크론이 코로나19 백신엔 영향을 미칠지를 보려면 추가 연구가 필요한 상황으로 세계보건기구WHO가 세계보건기구WHO가 우려 변이’로 오미크론을 지정하면서 글로벌 증시를 폭락시킨 오미크론은 현재로선 어디로 튈지 모르는 변이여서 두려움을 더하고 있다.'"
      ]
     },
     "execution_count": 118,
     "metadata": {},
     "output_type": "execute_result"
    }
   ],
   "source": [
    "tokenizer.decode(model_summary.squeeze(), skip_special_tokens=True)"
   ]
  },
  {
   "cell_type": "markdown",
   "metadata": {},
   "source": [
    "### 참고자료\n",
    "https://www.slideshare.net/BOAZbigdata/deeptitle?fbclid=IwAR2GHvEwLC-cvnlbjhvbKc0dxT7Xyof0CjooXvrcejqJoPN_cFLk6ewbMjQ\n",
    "\n",
    "- Konlpy : https://m.blog.naver.com/PostView.naver?isHttpsRedirect=true&blogId=myincizor&logNo=221629109172\n",
    "\n",
    "- 한국어 언어모델정리 : https://littlefoxdiary.tistory.com/81\n",
    "\n",
    "- koBart : https://github.com/SKT-AI/KoBART"
   ]
  },
  {
   "cell_type": "code",
   "execution_count": null,
   "metadata": {},
   "outputs": [],
   "source": []
  }
 ],
 "metadata": {
  "kernelspec": {
   "display_name": "Python 3",
   "language": "python",
   "name": "python3"
  },
  "language_info": {
   "codemirror_mode": {
    "name": "ipython",
    "version": 3
   },
   "file_extension": ".py",
   "mimetype": "text/x-python",
   "name": "python",
   "nbconvert_exporter": "python",
   "pygments_lexer": "ipython3",
   "version": "3.7.6"
  }
 },
 "nbformat": 4,
 "nbformat_minor": 4
}
